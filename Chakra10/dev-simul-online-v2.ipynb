{
 "cells": [
  {
   "cell_type": "markdown",
   "metadata": {},
   "source": [
    "# Set simulatin parameters, run simulation and save pickle file for all mc's of each model \n",
    "\n",
    "- 2021-06-16\n",
    "- Plot online-return.pdf and online-regret.pdf"
   ]
  },
  {
   "cell_type": "code",
   "execution_count": 1,
   "metadata": {},
   "outputs": [
    {
     "name": "stderr",
     "output_type": "stream",
     "text": [
      "In /Users/elynncc/anaconda3/envs/research/lib/python3.6/site-packages/matplotlib/mpl-data/stylelib/_classic_test.mplstyle: \n",
      "The text.latex.preview rcparam was deprecated in Matplotlib 3.3 and will be removed two minor releases later.\n",
      "In /Users/elynncc/anaconda3/envs/research/lib/python3.6/site-packages/matplotlib/mpl-data/stylelib/_classic_test.mplstyle: \n",
      "The mathtext.fallback_to_cm rcparam was deprecated in Matplotlib 3.3 and will be removed two minor releases later.\n",
      "In /Users/elynncc/anaconda3/envs/research/lib/python3.6/site-packages/matplotlib/mpl-data/stylelib/_classic_test.mplstyle: Support for setting the 'mathtext.fallback_to_cm' rcParam is deprecated since 3.3 and will be removed two minor releases later; use 'mathtext.fallback : 'cm' instead.\n",
      "In /Users/elynncc/anaconda3/envs/research/lib/python3.6/site-packages/matplotlib/mpl-data/stylelib/_classic_test.mplstyle: \n",
      "The validate_bool_maybe_none function was deprecated in Matplotlib 3.3 and will be removed two minor releases later.\n",
      "In /Users/elynncc/anaconda3/envs/research/lib/python3.6/site-packages/matplotlib/mpl-data/stylelib/_classic_test.mplstyle: \n",
      "The savefig.jpeg_quality rcparam was deprecated in Matplotlib 3.3 and will be removed two minor releases later.\n",
      "In /Users/elynncc/anaconda3/envs/research/lib/python3.6/site-packages/matplotlib/mpl-data/stylelib/_classic_test.mplstyle: \n",
      "The keymap.all_axes rcparam was deprecated in Matplotlib 3.3 and will be removed two minor releases later.\n",
      "In /Users/elynncc/anaconda3/envs/research/lib/python3.6/site-packages/matplotlib/mpl-data/stylelib/_classic_test.mplstyle: \n",
      "The animation.avconv_path rcparam was deprecated in Matplotlib 3.3 and will be removed two minor releases later.\n",
      "In /Users/elynncc/anaconda3/envs/research/lib/python3.6/site-packages/matplotlib/mpl-data/stylelib/_classic_test.mplstyle: \n",
      "The animation.avconv_args rcparam was deprecated in Matplotlib 3.3 and will be removed two minor releases later.\n"
     ]
    }
   ],
   "source": [
    "import numpy as np\n",
    "import scipy as sp \n",
    "import pandas as pd\n",
    "\n",
    "import matplotlib.pyplot as plt\n",
    "import seaborn as sns\n",
    "from sklearn import linear_model\n",
    "\n",
    "import pickle\n",
    "import os"
   ]
  },
  {
   "cell_type": "code",
   "execution_count": 2,
   "metadata": {},
   "outputs": [],
   "source": [
    "# personal library\n",
    "\n",
    "import MDP_CHAK10\n",
    "import QLearning as QL\n",
    "import TransferLinearModel as TLM\n",
    "import TransferQLearning as TQL"
   ]
  },
  {
   "cell_type": "code",
   "execution_count": 3,
   "metadata": {},
   "outputs": [],
   "source": [
    "horizon = 2\n",
    "dim_tru = 8\n",
    "r2_coef_tar = np.ones(dim_tru)\n",
    "r2_coef_tar[-1] = 0\n",
    "r2_coef_aux = np.ones(dim_tru)\n",
    "r2_coef_aux[-1] = 0\n",
    "\n",
    "diff = 1\n",
    "# r2_coef_aux[1] += diff\n",
    "\n",
    "# Setting difference in [3] will result in the growing effect in the pink line \n",
    "# diff = .2 will be too small\n",
    "r2_coef_aux[3] += diff\n"
   ]
  },
  {
   "cell_type": "code",
   "execution_count": 4,
   "metadata": {},
   "outputs": [],
   "source": [
    "DATA_DIR = 'data/'\n",
    "RES_DIR = 'res/'"
   ]
  },
  {
   "cell_type": "code",
   "execution_count": 5,
   "metadata": {},
   "outputs": [],
   "source": [
    "dim_obs = 80\n",
    "\n",
    "num_obs_aux = 100\n",
    "\n",
    "distn = 'n'"
   ]
  },
  {
   "cell_type": "code",
   "execution_count": 6,
   "metadata": {},
   "outputs": [],
   "source": [
    "_SEED = 7777\n",
    "seed = _SEED\n",
    "np.random.seed(seed)\n",
    "\n",
    "# Generate off-line data from task-1\n",
    "mdp = MDP_CHAK10.MDP_CHAK10(dim_obs, noise_var=1)\n",
    "\n",
    "# Auxilliary task\n",
    "mdp.set_r2_coef(r2_coef_aux)\n",
    "traj_aux = mdp.sample_random_obs(num_obs_aux, distn)\n",
    "q_coef_aux_tru = mdp.get_Q_coef()\n",
    "\n",
    "# Target task\n",
    "mdp.set_r2_coef(r2_coef_tar)\n",
    "\n",
    "q_coef_tar_singl = None\n",
    "q_coef_tar_trans = QL.Lasso(traj_aux, max_iter=5000, CV=True)  \n",
    "q_coef_tar_tru = mdp.get_Q_coef()\n"
   ]
  },
  {
   "cell_type": "code",
   "execution_count": 7,
   "metadata": {},
   "outputs": [
    {
     "data": {
      "text/plain": [
       "array([[ 2.69,  1.  ,  2.69,  1.  ,  0.75,  0.  ],\n",
       "       [ 1.19,  1.  ,  1.19,  1.  ,  1.04,  1.06],\n",
       "       [ 1.69,  1.  ,  1.69,  1.  ,  1.7 ,  0.96],\n",
       "       [ 1.19,  1.  ,  2.19,  2.  ,  1.81,  1.74],\n",
       "       [ 0.  ,  1.  ,  0.  ,  1.  ,  0.01,  1.01],\n",
       "       [ 0.  ,  1.  ,  0.  ,  1.  , -0.04,  0.64],\n",
       "       [ 0.  ,  1.  ,  0.  ,  1.  , -0.  ,  1.1 ],\n",
       "       [ 0.  ,  0.  ,  0.  ,  0.  ,  0.26,  0.  ]])"
      ]
     },
     "execution_count": 7,
     "metadata": {},
     "output_type": "execute_result"
    }
   ],
   "source": [
    "## 1, S1, A1, S1A1, A2, S2A2, A1A2, S2\n",
    "np.round(np.hstack([q_coef_tar_tru[:8,:], q_coef_aux_tru[:8,:], q_coef_tar_trans[:8,:]]), 2)"
   ]
  },
  {
   "cell_type": "code",
   "execution_count": 8,
   "metadata": {},
   "outputs": [],
   "source": [
    "batch_size = 500\n",
    "num_epoch = 25"
   ]
  },
  {
   "cell_type": "code",
   "execution_count": 9,
   "metadata": {},
   "outputs": [],
   "source": [
    "obs = mdp.reset(batch_size)\n",
    "act_0 = mdp.greedy(q_coef_tar_trans)\n",
    "obs_next, rew, done = mdp.step(act_0)\n",
    "act_1 = mdp.greedy(q_coef_tar_trans)\n",
    "obs_next_1, rew_1, done_1 = mdp.step(act_1)"
   ]
  },
  {
   "cell_type": "code",
   "execution_count": 10,
   "metadata": {},
   "outputs": [
    {
     "data": {
      "text/plain": [
       "2.6358157565489773"
      ]
     },
     "execution_count": 10,
     "metadata": {},
     "output_type": "execute_result"
    }
   ],
   "source": [
    "np.mean(mdp.reward[:,-1])"
   ]
  },
  {
   "cell_type": "code",
   "execution_count": 11,
   "metadata": {},
   "outputs": [],
   "source": [
    "traj = mdp.sample_random_obs(num_obs=500, distn='n')"
   ]
  },
  {
   "cell_type": "code",
   "execution_count": 12,
   "metadata": {},
   "outputs": [
    {
     "data": {
      "text/plain": [
       "1.0439604136431089"
      ]
     },
     "execution_count": 12,
     "metadata": {},
     "output_type": "execute_result"
    }
   ],
   "source": [
    "np.mean(traj['rew'][:,-1])"
   ]
  },
  {
   "cell_type": "code",
   "execution_count": 13,
   "metadata": {},
   "outputs": [],
   "source": [
    "obs = mdp.reset(batch_size)\n",
    "act_0 = mdp.greedy(q_coef_tar_tru)\n",
    "obs_next, rew, done = mdp.step(act_0)\n",
    "act_1 = mdp.greedy(q_coef_tar_tru)\n",
    "obs_next_1, rew_1, done_1 = mdp.step(act_1)"
   ]
  },
  {
   "cell_type": "code",
   "execution_count": 14,
   "metadata": {},
   "outputs": [
    {
     "data": {
      "text/plain": [
       "3.791200361662664"
      ]
     },
     "execution_count": 14,
     "metadata": {},
     "output_type": "execute_result"
    }
   ],
   "source": [
    "np.mean(mdp.reward[:,-1])"
   ]
  },
  {
   "cell_type": "code",
   "execution_count": 15,
   "metadata": {},
   "outputs": [],
   "source": [
    "#################\n",
    "batch_size = 100\n",
    "num_epoch = 50"
   ]
  },
  {
   "cell_type": "code",
   "execution_count": 16,
   "metadata": {},
   "outputs": [
    {
     "name": "stdout",
     "output_type": "stream",
     "text": [
      "Running epoch #0\n",
      "Running epoch #1\n",
      "Running epoch #2\n",
      "Running epoch #3\n",
      "Running epoch #4\n",
      "Running epoch #5\n",
      "Running epoch #6\n",
      "Running epoch #7\n",
      "Running epoch #8\n",
      "Running epoch #9\n",
      "Running epoch #10\n",
      "Running epoch #11\n",
      "Running epoch #12\n",
      "Running epoch #13\n",
      "Running epoch #14\n",
      "Running epoch #15\n",
      "Running epoch #16\n",
      "Running epoch #17\n",
      "Running epoch #18\n",
      "Running epoch #19\n",
      "Running epoch #20\n",
      "Running epoch #21\n",
      "Running epoch #22\n",
      "Running epoch #23\n",
      "Running epoch #24\n",
      "Running epoch #25\n",
      "Running epoch #26\n",
      "Running epoch #27\n",
      "Running epoch #28\n",
      "Running epoch #29\n",
      "Running epoch #30\n",
      "Running epoch #31\n",
      "Running epoch #32\n",
      "Running epoch #33\n",
      "Running epoch #34\n",
      "Running epoch #35\n",
      "Running epoch #36\n",
      "Running epoch #37\n",
      "Running epoch #38\n",
      "Running epoch #39\n",
      "Running epoch #40\n",
      "Running epoch #41\n",
      "Running epoch #42\n",
      "Running epoch #43\n",
      "Running epoch #44\n",
      "Running epoch #45\n",
      "Running epoch #46\n",
      "Running epoch #47\n",
      "Running epoch #48\n",
      "Running epoch #49\n",
      "Done!\n"
     ]
    }
   ],
   "source": [
    "seed = _SEED\n",
    "np.random.seed(seed)\n",
    "\n",
    "reward_opt = np.zeros(num_epoch)\n",
    "\n",
    "for ep in np.arange(num_epoch):\n",
    "    print('Running epoch #'+str(ep))\n",
    "    \n",
    "    obs = mdp.reset(batch_size)\n",
    "    mdp.step(mdp.greedy(q_coef_tar_tru))\n",
    "    mdp.step(mdp.greedy(q_coef_tar_tru))\n",
    "    reward_opt[ep] = np.mean(mdp.reward[:,-1])\n",
    "\n",
    "print(\"Done!\")"
   ]
  },
  {
   "cell_type": "code",
   "execution_count": 17,
   "metadata": {},
   "outputs": [
    {
     "name": "stdout",
     "output_type": "stream",
     "text": [
      "Running epoch #0\n",
      "Running epoch #1\n",
      "Running epoch #2\n",
      "Running epoch #3\n",
      "Running epoch #4\n",
      "Running epoch #5\n",
      "Running epoch #6\n",
      "Running epoch #7\n",
      "Running epoch #8\n",
      "Running epoch #9\n",
      "Running epoch #10\n",
      "Running epoch #11\n",
      "Running epoch #12\n",
      "Running epoch #13\n",
      "Running epoch #14\n",
      "Running epoch #15\n",
      "Running epoch #16\n",
      "Running epoch #17\n",
      "Running epoch #18\n",
      "Running epoch #19\n",
      "Running epoch #20\n",
      "Running epoch #21\n",
      "Running epoch #22\n",
      "Running epoch #23\n",
      "Running epoch #24\n",
      "Running epoch #25\n",
      "Running epoch #26\n",
      "Running epoch #27\n",
      "Running epoch #28\n",
      "Running epoch #29\n",
      "Running epoch #30\n",
      "Running epoch #31\n",
      "Running epoch #32\n",
      "Running epoch #33\n",
      "Running epoch #34\n",
      "Running epoch #35\n",
      "Running epoch #36\n",
      "Running epoch #37\n",
      "Running epoch #38\n",
      "Running epoch #39\n",
      "Running epoch #40\n",
      "Running epoch #41\n",
      "Running epoch #42\n",
      "Running epoch #43\n",
      "Running epoch #44\n",
      "Running epoch #45\n",
      "Running epoch #46\n",
      "Running epoch #47\n",
      "Running epoch #48\n",
      "Running epoch #49\n",
      "Done!\n"
     ]
    }
   ],
   "source": [
    "betas_0 = None\n",
    "\n",
    "traj_0 = None\n",
    "\n",
    "seed = _SEED\n",
    "np.random.seed(seed)\n",
    "\n",
    "reward = np.zeros(num_epoch)\n",
    "\n",
    "for ep in np.arange(num_epoch):\n",
    "    print('Running epoch #'+str(ep))\n",
    "    \n",
    "    if ep == 0 and betas_0 is None:\n",
    "        traj_1 = mdp.sample_random_obs(num_obs=batch_size, distn='n')\n",
    "        reward[ep] = np.mean(traj_1['rew'][:,-1])\n",
    "    else: \n",
    "        obs = mdp.reset(batch_size)\n",
    "        mdp.step(mdp.greedy(betas_0))\n",
    "        mdp.step(mdp.greedy(betas_0))\n",
    "        reward[ep] = np.mean(mdp.reward[:,-1])\n",
    "\n",
    "        traj_1 = mdp.add_new_traj(traj_0)\n",
    "        \n",
    "    \n",
    "    betas_1 = QL.Lasso(traj_1) \n",
    "    del betas_0\n",
    "    del traj_0\n",
    "    betas_0 = betas_1\n",
    "    traj_0 = traj_1 \n",
    "\n",
    "print(\"Done!\")"
   ]
  },
  {
   "cell_type": "code",
   "execution_count": 18,
   "metadata": {},
   "outputs": [],
   "source": [
    "reward0 = reward"
   ]
  },
  {
   "cell_type": "code",
   "execution_count": 19,
   "metadata": {},
   "outputs": [
    {
     "name": "stdout",
     "output_type": "stream",
     "text": [
      "Running epoch #0\n",
      "Running epoch #1\n",
      "Running epoch #2\n",
      "Running epoch #3\n",
      "Running epoch #4\n",
      "Running epoch #5\n",
      "Running epoch #6\n",
      "Running epoch #7\n",
      "Running epoch #8\n",
      "Running epoch #9\n",
      "Running epoch #10\n",
      "Running epoch #11\n",
      "Running epoch #12\n",
      "Running epoch #13\n",
      "Running epoch #14\n",
      "Running epoch #15\n",
      "Running epoch #16\n",
      "Running epoch #17\n",
      "Running epoch #18\n",
      "Running epoch #19\n",
      "Running epoch #20\n",
      "Running epoch #21\n",
      "Running epoch #22\n",
      "Running epoch #23\n",
      "Running epoch #24\n",
      "Running epoch #25\n",
      "Running epoch #26\n",
      "Running epoch #27\n",
      "Running epoch #28\n",
      "Running epoch #29\n",
      "Running epoch #30\n",
      "Running epoch #31\n",
      "Running epoch #32\n",
      "Running epoch #33\n",
      "Running epoch #34\n",
      "Running epoch #35\n",
      "Running epoch #36\n",
      "Running epoch #37\n",
      "Running epoch #38\n",
      "Running epoch #39\n",
      "Running epoch #40\n",
      "Running epoch #41\n",
      "Running epoch #42\n",
      "Running epoch #43\n",
      "Running epoch #44\n",
      "Running epoch #45\n",
      "Running epoch #46\n",
      "Running epoch #47\n",
      "Running epoch #48\n",
      "Running epoch #49\n",
      "Done!\n"
     ]
    }
   ],
   "source": [
    "\n",
    "betas_0 = q_coef_tar_trans\n",
    "traj_0 = None\n",
    "traj_aux = traj\n",
    "\n",
    "seed = _SEED\n",
    "np.random.seed(seed)\n",
    "\n",
    "reward = np.zeros(num_epoch)\n",
    "\n",
    "assert betas_0 is not None\n",
    "\n",
    "for ep in np.arange(num_epoch):\n",
    "    print('Running epoch #'+str(ep))\n",
    "\n",
    "    obs = mdp.reset(batch_size)\n",
    "    mdp.step(mdp.greedy(betas_0))\n",
    "    mdp.step(mdp.greedy(betas_0))\n",
    "    reward[ep] = np.mean(mdp.reward[:,-1])\n",
    "\n",
    "    traj_1 = mdp.add_new_traj(traj_0)\n",
    "    betas_1, _ = TQL.Lasso(traj_1, traj_aux)\n",
    "    \n",
    "    del betas_0\n",
    "    del traj_0\n",
    "    betas_0 = betas_1\n",
    "    traj_0 = traj_1 \n",
    "\n",
    "print(\"Done!\")"
   ]
  },
  {
   "cell_type": "code",
   "execution_count": 20,
   "metadata": {},
   "outputs": [],
   "source": [
    "reward1 = reward"
   ]
  },
  {
   "cell_type": "code",
   "execution_count": 105,
   "metadata": {},
   "outputs": [],
   "source": [
    "obs = mdp.reset(batch_size)\n",
    "act_0 = mdp.greedy(betas_0)\n",
    "obs_next, rew, done = mdp.step(act_0)\n",
    "act_1 = mdp.greedy(betas_0)\n",
    "obs_next_1, rew_1, done_1 = mdp.step(act_1)"
   ]
  },
  {
   "cell_type": "code",
   "execution_count": 106,
   "metadata": {},
   "outputs": [
    {
     "data": {
      "text/plain": [
       "3.7236592394675285"
      ]
     },
     "execution_count": 106,
     "metadata": {},
     "output_type": "execute_result"
    }
   ],
   "source": [
    "np.mean(mdp.reward[:,-1])"
   ]
  },
  {
   "cell_type": "code",
   "execution_count": 27,
   "metadata": {},
   "outputs": [
    {
     "data": {
      "image/png": "[encoded data removed]",
      "text/plain": [
       "<Figure size 432x288 with 1 Axes>"
      ]
     },
     "metadata": {},
     "output_type": "display_data"
    }
   ],
   "source": [
    "sns.set_style('whitegrid')\n",
    "fig, axe = plt.subplots()\n",
    "\n",
    "plt.plot(np.arange(num_epoch), np.cumsum(reward0)/np.arange(1,num_epoch+1), 'b--', label='No')\n",
    "plt.plot(np.arange(num_epoch), np.cumsum(reward1)/np.arange(1,num_epoch+1), 'm-', label='Yes')\n",
    "\n",
    "#sns.lineplot(np.arange(num_epoch), np.cumsum(reward0)/np.arange(1,num_epoch+1), ax = axe)\n",
    "#sns.lineplot(np.arange(num_epoch), np.cumsum(reward1)/np.arange(1,num_epoch+1), ax = axe)\n",
    "\n",
    "axe.set_ylabel(\"Average Return\")\n",
    "axe.set_xlabel(\"Phase\")\n",
    "\n",
    "axe.legend(title=\"Transfer\", loc=\"lower right\")\n",
    "\n",
    "plt.savefig(os.path.join(RES_DIR, 'online-return.pdf'), bbox_inches='tight')"
   ]
  },
  {
   "cell_type": "code",
   "execution_count": 26,
   "metadata": {},
   "outputs": [
    {
     "data": {
      "image/png": "[encoded data removed]",
      "text/plain": [
       "<Figure size 432x288 with 1 Axes>"
      ]
     },
     "metadata": {},
     "output_type": "display_data"
    }
   ],
   "source": [
    "sns.set_style('whitegrid')\n",
    "fig, axe = plt.subplots()\n",
    "\n",
    "#plt.plot(np.arange(0,num_epoch*batch_size,batch_size), np.cumsum(reward_opt-reward0)/np.arange(1,num_epoch+1), 'b--', label='No')\n",
    "#plt.plot(np.arange(0,num_epoch*batch_size,batch_size), np.cumsum(reward_opt-reward1)/np.arange(1,num_epoch+1), 'm-', label='Yes')\n",
    "\n",
    "plt.plot(np.arange(num_epoch), np.cumsum(reward_opt-reward0)/np.arange(1,num_epoch+1), 'b--', label='No')\n",
    "plt.plot(np.arange(num_epoch), np.cumsum(reward_opt-reward1)/np.arange(1,num_epoch+1), 'm-', label='Yes')\n",
    "\n",
    "#sns.lineplot(np.arange(num_epoch), np.cumsum(reward0)/np.arange(1,num_epoch+1), ax = axe)\n",
    "#sns.lineplot(np.arange(num_epoch), np.cumsum(reward1)/np.arange(1,num_epoch+1), ax = axe)\n",
    "\n",
    "axe.set_ylabel(\"Cummulative regret\")\n",
    "axe.set_xlabel(\"Phase\")\n",
    "\n",
    "axe.legend(title=\"Transfer\", loc=\"upper right\")\n",
    "\n",
    "#plt.savefig(os.path.join(RES_DIR, 'online-regret.pdf'), bbox_inches='tight')"
   ]
  },
  {
   "cell_type": "code",
   "execution_count": 109,
   "metadata": {},
   "outputs": [
    {
     "data": {
      "text/plain": [
       "array([[0.8007149 , 2.68166923],\n",
       "       [3.40570162, 3.6061909 ],\n",
       "       [4.34720824, 3.8766885 ],\n",
       "       [3.85327247, 3.82289131],\n",
       "       [3.81063989, 4.20071674],\n",
       "       [3.85067246, 3.47849168],\n",
       "       [3.7196943 , 3.74306738],\n",
       "       [3.87570316, 3.7662365 ],\n",
       "       [3.77497011, 3.94154258],\n",
       "       [4.0095168 , 4.11952294],\n",
       "       [3.72757083, 4.03449863],\n",
       "       [4.23889486, 3.85453967],\n",
       "       [3.60879957, 3.82254725],\n",
       "       [3.13731504, 3.29487268],\n",
       "       [4.08179222, 3.48385531],\n",
       "       [3.95404421, 3.72093975],\n",
       "       [3.7406538 , 3.99683424],\n",
       "       [3.5807323 , 3.76634937],\n",
       "       [3.77547476, 3.40136162],\n",
       "       [4.0134179 , 3.62063201],\n",
       "       [3.10896828, 3.62790212],\n",
       "       [3.2655669 , 3.47820969],\n",
       "       [3.67343497, 3.74185188],\n",
       "       [3.77125532, 4.35141255],\n",
       "       [3.92335498, 3.80112251],\n",
       "       [3.80237736, 4.13007923],\n",
       "       [3.71916403, 3.90949193],\n",
       "       [3.82500778, 3.93249183],\n",
       "       [3.64159876, 3.78194619],\n",
       "       [3.54428712, 3.87008926],\n",
       "       [3.5611863 , 3.88245986],\n",
       "       [3.61088132, 3.58627214],\n",
       "       [3.72192403, 3.32550265],\n",
       "       [3.70828234, 3.78819183],\n",
       "       [3.96775061, 4.06520099],\n",
       "       [3.98646524, 3.85255598],\n",
       "       [3.70893255, 3.15997025],\n",
       "       [3.56524877, 3.4257635 ],\n",
       "       [3.90418545, 4.04703775],\n",
       "       [3.48286035, 3.73386699],\n",
       "       [3.71681282, 3.91179221],\n",
       "       [3.96256993, 3.51706289],\n",
       "       [3.65735796, 3.47846191],\n",
       "       [3.9885282 , 4.37563692],\n",
       "       [3.25437936, 3.64724678],\n",
       "       [4.04928066, 3.99862844],\n",
       "       [3.41914027, 4.4201939 ],\n",
       "       [3.89327008, 3.7297356 ],\n",
       "       [4.50490974, 3.71872684],\n",
       "       [3.68154728, 3.89844026]])"
      ]
     },
     "execution_count": 109,
     "metadata": {},
     "output_type": "execute_result"
    }
   ],
   "source": [
    "np.hstack([reward0[:,None], reward1[:,None]])"
   ]
  },
  {
   "cell_type": "code",
   "execution_count": null,
   "metadata": {},
   "outputs": [],
   "source": []
  },
  {
   "cell_type": "code",
   "execution_count": null,
   "metadata": {},
   "outputs": [],
   "source": []
  }
 ],
 "metadata": {
  "kernelspec": {
   "display_name": "Python 3",
   "language": "python",
   "name": "python3"
  },
  "language_info": {
   "codemirror_mode": {
    "name": "ipython",
    "version": 3
   },
   "file_extension": ".py",
   "mimetype": "text/x-python",
   "name": "python",
   "nbconvert_exporter": "python",
   "pygments_lexer": "ipython3",
   "version": "3.6.13"
  }
 },
 "nbformat": 4,
 "nbformat_minor": 4
}
