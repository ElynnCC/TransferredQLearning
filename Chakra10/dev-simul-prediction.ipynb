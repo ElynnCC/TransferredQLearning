{
 "cells": [
  {
   "cell_type": "markdown",
   "metadata": {},
   "source": [
    "# Set simulatin parameters, run simulation and save pickle file for all mc's of each model \n",
    "\n",
    "- Replicated from dev-simul-v2.ipynb\n",
    "- Add testing dataset \n",
    "- Add prediction and optimal action comparison\n"
   ]
  },
  {
   "cell_type": "code",
   "execution_count": 1,
   "metadata": {},
   "outputs": [
    {
     "name": "stderr",
     "output_type": "stream",
     "text": [
      "In /Users/elynncc/anaconda3/envs/research/lib/python3.6/site-packages/matplotlib/mpl-data/stylelib/_classic_test.mplstyle: \n",
      "The text.latex.preview rcparam was deprecated in Matplotlib 3.3 and will be removed two minor releases later.\n",
      "In /Users/elynncc/anaconda3/envs/research/lib/python3.6/site-packages/matplotlib/mpl-data/stylelib/_classic_test.mplstyle: \n",
      "The mathtext.fallback_to_cm rcparam was deprecated in Matplotlib 3.3 and will be removed two minor releases later.\n",
      "In /Users/elynncc/anaconda3/envs/research/lib/python3.6/site-packages/matplotlib/mpl-data/stylelib/_classic_test.mplstyle: Support for setting the 'mathtext.fallback_to_cm' rcParam is deprecated since 3.3 and will be removed two minor releases later; use 'mathtext.fallback : 'cm' instead.\n",
      "In /Users/elynncc/anaconda3/envs/research/lib/python3.6/site-packages/matplotlib/mpl-data/stylelib/_classic_test.mplstyle: \n",
      "The validate_bool_maybe_none function was deprecated in Matplotlib 3.3 and will be removed two minor releases later.\n",
      "In /Users/elynncc/anaconda3/envs/research/lib/python3.6/site-packages/matplotlib/mpl-data/stylelib/_classic_test.mplstyle: \n",
      "The savefig.jpeg_quality rcparam was deprecated in Matplotlib 3.3 and will be removed two minor releases later.\n",
      "In /Users/elynncc/anaconda3/envs/research/lib/python3.6/site-packages/matplotlib/mpl-data/stylelib/_classic_test.mplstyle: \n",
      "The keymap.all_axes rcparam was deprecated in Matplotlib 3.3 and will be removed two minor releases later.\n",
      "In /Users/elynncc/anaconda3/envs/research/lib/python3.6/site-packages/matplotlib/mpl-data/stylelib/_classic_test.mplstyle: \n",
      "The animation.avconv_path rcparam was deprecated in Matplotlib 3.3 and will be removed two minor releases later.\n",
      "In /Users/elynncc/anaconda3/envs/research/lib/python3.6/site-packages/matplotlib/mpl-data/stylelib/_classic_test.mplstyle: \n",
      "The animation.avconv_args rcparam was deprecated in Matplotlib 3.3 and will be removed two minor releases later.\n"
     ]
    }
   ],
   "source": [
    "import numpy as np\n",
    "import scipy as sp \n",
    "import pandas as pd\n",
    "\n",
    "import matplotlib.pyplot as plt\n",
    "from sklearn import linear_model\n",
    "\n",
    "import pickle\n",
    "import os"
   ]
  },
  {
   "cell_type": "code",
   "execution_count": 2,
   "metadata": {},
   "outputs": [],
   "source": [
    "# personal library\n",
    "\n",
    "#import MDP_CHAK10v1 as MDP_CHAK10    # v1 - state x 0 mean\n",
    "import MDP_CHAK10   # v1 - state x 1 mean\n",
    "\n",
    "import QLearning as QL\n",
    "import TransferLinearModel as TLM\n",
    "import TransferQLearning as TQL"
   ]
  },
  {
   "cell_type": "code",
   "execution_count": 3,
   "metadata": {},
   "outputs": [],
   "source": [
    "horizon = 2\n",
    "dim_tru = 8\n",
    "r2_coef_0 = np.ones(dim_tru)\n",
    "r2_coef_0[-1] = 0\n",
    "r2_coef_1 = np.ones(dim_tru)\n",
    "r2_coef_1[-1] = 0\n",
    "\n",
    "diff = 0.2\n",
    "r2_coef_1[1] += diff\n",
    "#r2_coef_1[3] += diff # action\n"
   ]
  },
  {
   "cell_type": "code",
   "execution_count": 4,
   "metadata": {},
   "outputs": [],
   "source": [
    "DATA_DIR = 'data/'\n",
    "RES_DIR = 'res/'\n",
    "prefix = 'pred-'"
   ]
  },
  {
   "cell_type": "code",
   "execution_count": 5,
   "metadata": {},
   "outputs": [],
   "source": [
    "p = 100\n",
    "\n",
    "# n0 = 30\n",
    "#n0_list = np.array([30], dtype=int)\n",
    "#n1_list = np.array([40, 50, 60, 70, 80], dtype=int)\n",
    "\n",
    "# n0 = 50\n",
    "n0_list = np.array([50], dtype=int)\n",
    "n1_list = np.array([60, 70, 80, 90, 100], dtype=int)\n",
    "\n",
    "#n0_list = np.array([70], dtype=int)\n",
    "#n1_list = np.array([80, 90, 100, 110, 120], dtype=int)\n",
    "\n",
    "num_mc = 400\n",
    "\n",
    "#settings = np.array([[n0, n1] for n0 in n0_list for n1 in (n0 * ra_list).astype(int) ])\n",
    "settings = np.array([[p, n0, n1] \n",
    "                     for n0 in n0_list \n",
    "                     for n1 in n1_list])\n",
    "# settings"
   ]
  },
  {
   "cell_type": "code",
   "execution_count": 6,
   "metadata": {},
   "outputs": [],
   "source": [
    "def onemodel_sequential(r2_coef_0, r2_coef_1, horizon, dim_obs, \n",
    "                        num_obs_0, num_obs_1, num_mc, \n",
    "                        distn='n', noise_var = 1, \n",
    "                        _SEED = 6789):\n",
    "    \n",
    "    res_list = [None] * num_mc\n",
    "    \n",
    "    for ind_mc in np.arange(num_mc):\n",
    "        seed = _SEED * (ind_mc + 1)\n",
    "        res_list[ind_mc] = onemc(seed, ind_mc, r2_coef_0, r2_coef_1, \n",
    "                                 horizon, dim_obs, num_obs_0, num_obs_1,\n",
    "                                 distn, noise_var)\n",
    "    \n",
    "    return(res_list)"
   ]
  },
  {
   "cell_type": "code",
   "execution_count": 7,
   "metadata": {},
   "outputs": [],
   "source": [
    "def onemc(seed, ind_mc, r2_coef_0, r2_coef_1, \n",
    "          horizon, dim_obs, num_obs_0, num_obs_1,\n",
    "          distn='n', noise_var = 1):\n",
    "    \n",
    "    np.random.seed(seed)\n",
    "    \n",
    "    mdp = MDP_CHAK10.MDP_CHAK10(dim_obs, noise_var)\n",
    "    \n",
    "    mdp.set_r2_coef(r2_coef_0)\n",
    "    traj_0 = mdp.sample_random_obs(num_obs_0, distn)\n",
    "    q_coef_0_true = mdp.get_Q_coef()\n",
    "    \n",
    "    mdp.set_r2_coef(r2_coef_1)\n",
    "    traj_1 = mdp.sample_random_obs(num_obs_1, distn)\n",
    "    # q_coef_1_true = mdp.get_Q_coef() \n",
    "    \n",
    "    q_coef_0_sing = QL.Lasso(traj_0)\n",
    "    \n",
    "    q_coef_0_tran, _ = TQL.Lasso(traj_0, traj_1)\n",
    "    \n",
    "    #return(np.hstack([q_coef_0_sing - q_coef_0_true, \n",
    "    #                  q_coef_0_tran - q_coef_0_true]))\n",
    "    \n",
    "    # Generate new data\n",
    "    traj_tr_0 = mdp.sample_random_obs(1, distn)\n",
    "    \n",
    "    qvals_0_true = QL.q_value(traj_tr_0, q_coef_0_true)\n",
    "    qvals_0_tran = QL.q_value(traj_tr_0, q_coef_0_tran)\n",
    "    qvals_0_sing = QL.q_value(traj_tr_0, q_coef_0_sing)\n",
    "    \n",
    "    opt_act_0_true = QL.optimal_actions(traj_tr_0, q_coef_0_true)\n",
    "    opt_act_0_tran = QL.optimal_actions(traj_tr_0, q_coef_0_tran)\n",
    "    opt_act_0_sing = QL.optimal_actions(traj_tr_0, q_coef_0_sing)\n",
    "    \n",
    "    return(np.vstack([np.hstack([(qvals_0_sing - qvals_0_true)/qvals_0_true,\n",
    "                                 (qvals_0_tran - qvals_0_true)/qvals_0_true]), # Q \n",
    "                      np.hstack([opt_act_0_true == opt_act_0_sing, \n",
    "                                 opt_act_0_true == opt_act_0_tran]) # A \n",
    "                     ]))\n",
    "\n"
   ]
  },
  {
   "cell_type": "code",
   "execution_count": 8,
   "metadata": {},
   "outputs": [
    {
     "name": "stdout",
     "output_type": "stream",
     "text": [
      "Processing model #0 with (diff, p, n_0, n_1)=(0.2, 100, 50, 60).\n",
      "Processing model #1 with (diff, p, n_0, n_1)=(0.2, 100, 50, 70).\n",
      "Processing model #2 with (diff, p, n_0, n_1)=(0.2, 100, 50, 80).\n",
      "Processing model #3 with (diff, p, n_0, n_1)=(0.2, 100, 50, 90).\n",
      "Processing model #4 with (diff, p, n_0, n_1)=(0.2, 100, 50, 100).\n"
     ]
    }
   ],
   "source": [
    "for row, (dim_obs, num_obs_0, num_obs_1) in enumerate(settings):\n",
    "    print('Processing model #' + str(row) +\n",
    "          ' with (diff, p, n_0, n_1)=(' + str(diff) + ', ' + str(dim_obs) + ', ' + \n",
    "          str(num_obs_0) + ', ' + str(num_obs_1) + ').')\n",
    "    distn='u'\n",
    "    noise_var = 1\n",
    "    res_list = onemodel_sequential(r2_coef_0, r2_coef_1, \n",
    "                                   horizon, dim_obs, \n",
    "                                   num_obs_0, num_obs_1, num_mc, \n",
    "                                   distn, noise_var, \n",
    "                                   _SEED = 8989)\n",
    "    \n",
    "    dump = prefix + 'diff-' + str(diff) + '-p-' + str(dim_obs) + '-n0-' + \\\n",
    "            str(num_obs_0) + '-n1-' + str(num_obs_1) + '-x-' + \\\n",
    "            distn + '-e-' + str(noise_var) + '-no-cv.pkl'\n",
    "    \n",
    "    pickle.dump(res_list, open(os.path.join(DATA_DIR, dump),'wb'))"
   ]
  },
  {
   "cell_type": "markdown",
   "metadata": {},
   "source": [
    "# Load result file, combine and plot"
   ]
  },
  {
   "cell_type": "code",
   "execution_count": 32,
   "metadata": {},
   "outputs": [],
   "source": [
    "distn='n'\n",
    "noise_var = 1"
   ]
  },
  {
   "cell_type": "code",
   "execution_count": 33,
   "metadata": {},
   "outputs": [
    {
     "name": "stdout",
     "output_type": "stream",
     "text": [
      "Processing model #0 with (diff, p, n_0, n_1)=(0.2, 100, 50, 60).\n",
      "Processing model #1 with (diff, p, n_0, n_1)=(0.2, 100, 50, 70).\n",
      "Processing model #2 with (diff, p, n_0, n_1)=(0.2, 100, 50, 80).\n",
      "Processing model #3 with (diff, p, n_0, n_1)=(0.2, 100, 50, 90).\n",
      "Processing model #4 with (diff, p, n_0, n_1)=(0.2, 100, 50, 100).\n"
     ]
    }
   ],
   "source": [
    "for row, (dim_obs, num_obs_0, num_obs_1) in enumerate(settings):\n",
    "    \n",
    "    print('Processing model #' + str(row) +\n",
    "          ' with (diff, p, n_0, n_1)=(' + str(diff) + ', ' + str(dim_obs) + ', ' + \n",
    "          str(num_obs_0) + ', ' + str(num_obs_1) + ').')\n",
    "    \n",
    "    dump = prefix + 'diff-' + str(diff) + '-p-' + str(dim_obs) + '-n0-' + \\\n",
    "            str(num_obs_0) + '-n1-' + str(num_obs_1) + '-x-' + \\\n",
    "            distn + '-e-' + str(noise_var) + '-no-cv.pkl'\n",
    "    \n",
    "    res_list = pickle.load(open(os.path.join(DATA_DIR, dump),'rb'))\n",
    "    \n",
    "    # res_array: num_mc * 4 x dim_obs\n",
    "    res_array = np.hstack(res_list).transpose()\n",
    "    \n",
    "    if row == 0:\n",
    "        all_res_array = res_array\n",
    "    else:\n",
    "        all_res_array = np.vstack([all_res_array, res_array])"
   ]
  },
  {
   "cell_type": "code",
   "execution_count": 34,
   "metadata": {},
   "outputs": [],
   "source": [
    "simul = np.array([[n0, n1, i, trans, stage] \n",
    "                  for n0 in n0_list.astype(int)\n",
    "                  for n1 in n1_list.astype(int)\n",
    "                  for i in np.arange(num_mc)\n",
    "                  for trans in [0, 1]\n",
    "                  for stage in np.arange(horizon)\n",
    "                 ])"
   ]
  },
  {
   "cell_type": "code",
   "execution_count": 35,
   "metadata": {},
   "outputs": [],
   "source": [
    "num_rows, _ = simul.shape"
   ]
  },
  {
   "cell_type": "code",
   "execution_count": 36,
   "metadata": {},
   "outputs": [],
   "source": [
    "col_names = np.concatenate([ ['$n_0$', '$n_1$', 'mc', 'Trans', 'Stage'],\n",
    "                             ['$Q^*$', '$A^*$'] ])"
   ]
  },
  {
   "cell_type": "code",
   "execution_count": 37,
   "metadata": {},
   "outputs": [],
   "source": [
    "all_res = pd.DataFrame(np.hstack([simul, all_res_array]), columns=col_names)"
   ]
  },
  {
   "cell_type": "code",
   "execution_count": 38,
   "metadata": {},
   "outputs": [
    {
     "data": {
      "text/html": [
       "<div>\n",
       "<style scoped>\n",
       "    .dataframe tbody tr th:only-of-type {\n",
       "        vertical-align: middle;\n",
       "    }\n",
       "\n",
       "    .dataframe tbody tr th {\n",
       "        vertical-align: top;\n",
       "    }\n",
       "\n",
       "    .dataframe thead th {\n",
       "        text-align: right;\n",
       "    }\n",
       "</style>\n",
       "<table border=\"1\" class=\"dataframe\">\n",
       "  <thead>\n",
       "    <tr style=\"text-align: right;\">\n",
       "      <th></th>\n",
       "      <th>$n_0$</th>\n",
       "      <th>$n_1$</th>\n",
       "      <th>mc</th>\n",
       "      <th>Trans</th>\n",
       "      <th>Stage</th>\n",
       "      <th>$Q^*$</th>\n",
       "      <th>$A^*$</th>\n",
       "    </tr>\n",
       "  </thead>\n",
       "  <tbody>\n",
       "    <tr>\n",
       "      <th>0</th>\n",
       "      <td>50.0</td>\n",
       "      <td>60.0</td>\n",
       "      <td>0.0</td>\n",
       "      <td>0.0</td>\n",
       "      <td>0.0</td>\n",
       "      <td>-0.329441</td>\n",
       "      <td>0.0</td>\n",
       "    </tr>\n",
       "    <tr>\n",
       "      <th>1</th>\n",
       "      <td>50.0</td>\n",
       "      <td>60.0</td>\n",
       "      <td>0.0</td>\n",
       "      <td>0.0</td>\n",
       "      <td>1.0</td>\n",
       "      <td>-0.215083</td>\n",
       "      <td>1.0</td>\n",
       "    </tr>\n",
       "    <tr>\n",
       "      <th>2</th>\n",
       "      <td>50.0</td>\n",
       "      <td>60.0</td>\n",
       "      <td>0.0</td>\n",
       "      <td>1.0</td>\n",
       "      <td>0.0</td>\n",
       "      <td>-0.582541</td>\n",
       "      <td>0.0</td>\n",
       "    </tr>\n",
       "    <tr>\n",
       "      <th>3</th>\n",
       "      <td>50.0</td>\n",
       "      <td>60.0</td>\n",
       "      <td>0.0</td>\n",
       "      <td>1.0</td>\n",
       "      <td>1.0</td>\n",
       "      <td>-0.030003</td>\n",
       "      <td>1.0</td>\n",
       "    </tr>\n",
       "    <tr>\n",
       "      <th>4</th>\n",
       "      <td>50.0</td>\n",
       "      <td>60.0</td>\n",
       "      <td>1.0</td>\n",
       "      <td>0.0</td>\n",
       "      <td>0.0</td>\n",
       "      <td>-0.453285</td>\n",
       "      <td>1.0</td>\n",
       "    </tr>\n",
       "  </tbody>\n",
       "</table>\n",
       "</div>"
      ],
      "text/plain": [
       "   $n_0$  $n_1$   mc  Trans  Stage     $Q^*$  $A^*$\n",
       "0   50.0   60.0  0.0    0.0    0.0 -0.329441    0.0\n",
       "1   50.0   60.0  0.0    0.0    1.0 -0.215083    1.0\n",
       "2   50.0   60.0  0.0    1.0    0.0 -0.582541    0.0\n",
       "3   50.0   60.0  0.0    1.0    1.0 -0.030003    1.0\n",
       "4   50.0   60.0  1.0    0.0    0.0 -0.453285    1.0"
      ]
     },
     "execution_count": 38,
     "metadata": {},
     "output_type": "execute_result"
    }
   ],
   "source": [
    "all_res.head()"
   ]
  },
  {
   "cell_type": "markdown",
   "metadata": {},
   "source": [
    "# Plot from DataFrame"
   ]
  },
  {
   "cell_type": "code",
   "execution_count": 39,
   "metadata": {},
   "outputs": [],
   "source": [
    "import seaborn as sns"
   ]
  },
  {
   "cell_type": "code",
   "execution_count": 40,
   "metadata": {},
   "outputs": [],
   "source": [
    "def combine(x):\n",
    "    return '('+str(x[0])+', '+str(x[1])+')'\n",
    "\n",
    "all_res['$(n_0, n_1)$'] = all_res[['$n_0$','$n_1$']].astype(int).apply(combine, 1)"
   ]
  },
  {
   "cell_type": "code",
   "execution_count": 41,
   "metadata": {},
   "outputs": [],
   "source": [
    "all_res['$Q^*$'] = all_res['$Q^*$'].apply(np.abs)"
   ]
  },
  {
   "cell_type": "code",
   "execution_count": 42,
   "metadata": {},
   "outputs": [],
   "source": [
    "df_s0 = all_res.loc[ all_res['Stage']==0, ['$(n_0, n_1)$', 'mc', 'Trans', 'Stage', '$Q^*$']]\n",
    "df_s1 = all_res.loc[ all_res['Stage']==1, ['$(n_0, n_1)$', 'mc', 'Trans', 'Stage', '$Q^*$']]"
   ]
  },
  {
   "cell_type": "code",
   "execution_count": 43,
   "metadata": {},
   "outputs": [],
   "source": [
    "df_s0.loc[df_s0['Trans']==0, 'Trans'] = 'No'\n",
    "df_s0.loc[df_s0['Trans']==1, 'Trans'] = 'Yes'\n",
    "\n",
    "df_s1.loc[df_s1['Trans']==0, 'Trans'] = 'No'\n",
    "df_s1.loc[df_s1['Trans']==1, 'Trans'] = 'Yes'"
   ]
  },
  {
   "cell_type": "code",
   "execution_count": 44,
   "metadata": {},
   "outputs": [],
   "source": [
    "fname = 'chakra-' + prefix + 'diff-' + str(diff) + '-p-' + str(dim_obs) + '-n0-' + \\\n",
    "        str(num_obs_0) + '-x-' + distn + '-e-' + str(noise_var)"
   ]
  },
  {
   "cell_type": "code",
   "execution_count": 45,
   "metadata": {},
   "outputs": [
    {
     "data": {
      "image/png": "[encoded data removed]",
      "text/plain": [
       "<Figure size 720x288 with 2 Axes>"
      ]
     },
     "metadata": {},
     "output_type": "display_data"
    }
   ],
   "source": [
    "sns.set_style('whitegrid')\n",
    "fig, axes = plt.subplots(1, 2, figsize=(10, 4))\n",
    "\n",
    "sns.boxplot(x='$(n_0, n_1)$', y='$Q^*$', hue='Trans', data=df_s0, \n",
    "            palette=\"pastel\", showfliers=False, ax=axes[0])\n",
    "\n",
    "sns.boxplot(x='$(n_0, n_1)$', y='$Q^*$', hue='Trans', data=df_s1, \n",
    "            palette=\"pastel\", showfliers=False, ax=axes[1])\n",
    "\n",
    "#axes[0].set_ylim([0,2.5])\n",
    "#axes[1].set_ylim([0,2.5])\n",
    "\n",
    "axes[0].set_ylabel(\"$\\\\frac{|\\\\hat Q^* - Q^*|}{|Q^*|}$\")\n",
    "axes[1].set_ylabel(\"\")\n",
    "\n",
    "axes[0].set_title(\"Stage 1\")\n",
    "axes[1].set_title(\"Stage 2\")\n",
    "\n",
    "axes[0].legend(title=\"Transfer\", loc=\"upper right\")\n",
    "axes[1].legend(title=\"Transfer\", loc=\"upper right\")\n",
    "\n",
    "plt.savefig(os.path.join(RES_DIR, fname + '.pdf'), bbox_inches='tight')"
   ]
  },
  {
   "cell_type": "code",
   "execution_count": 22,
   "metadata": {},
   "outputs": [],
   "source": [
    "#df = all_res.loc[ : , ['$(n_0, n_1)$', 'mc', 'Trans', 'Stage', 'MSE']]"
   ]
  },
  {
   "cell_type": "code",
   "execution_count": 23,
   "metadata": {},
   "outputs": [],
   "source": [
    "#g = sns.FacetGrid(df, col=\"Stage\")\n",
    "#g.map(sns.boxplot, x=\"$(n_0, n_1)$\", y=\"MSE\", hue=\"Trans\", data=df, palette=\"Set3\")"
   ]
  },
  {
   "cell_type": "markdown",
   "metadata": {},
   "source": [
    "# Line plot with shaded area"
   ]
  },
  {
   "cell_type": "code",
   "execution_count": null,
   "metadata": {},
   "outputs": [],
   "source": []
  },
  {
   "cell_type": "code",
   "execution_count": 24,
   "metadata": {},
   "outputs": [],
   "source": [
    "actions = all_res[['$(n_0, n_1)$', 'Trans', 'Stage', '$A^*$']]"
   ]
  },
  {
   "cell_type": "code",
   "execution_count": 25,
   "metadata": {},
   "outputs": [],
   "source": [
    "df = actions.groupby(['$(n_0, n_1)$', 'Trans', 'Stage' ]).aggregate(np.mean).reset_index()"
   ]
  },
  {
   "cell_type": "code",
   "execution_count": 26,
   "metadata": {},
   "outputs": [],
   "source": [
    "df_s0 = df.loc[ df['Stage']==0 ]\n",
    "df_s1 = df.loc[ df['Stage']==1 ]"
   ]
  },
  {
   "cell_type": "code",
   "execution_count": 27,
   "metadata": {},
   "outputs": [
    {
     "data": {
      "text/plain": [
       "<AxesSubplot:xlabel='$(n_0, n_1)$', ylabel='$A^*$'>"
      ]
     },
     "execution_count": 27,
     "metadata": {},
     "output_type": "execute_result"
    },
    {
     "data": {
      "image/png": "[encoded data removed]",
      "text/plain": [
       "<Figure size 432x288 with 1 Axes>"
      ]
     },
     "metadata": {},
     "output_type": "display_data"
    }
   ],
   "source": [
    "sns.lineplot(x='$(n_0, n_1)$', y='$A^*$', hue='Trans', data=df_s0)"
   ]
  },
  {
   "cell_type": "code",
   "execution_count": 28,
   "metadata": {},
   "outputs": [
    {
     "data": {
      "text/html": [
       "<div>\n",
       "<style scoped>\n",
       "    .dataframe tbody tr th:only-of-type {\n",
       "        vertical-align: middle;\n",
       "    }\n",
       "\n",
       "    .dataframe tbody tr th {\n",
       "        vertical-align: top;\n",
       "    }\n",
       "\n",
       "    .dataframe thead th {\n",
       "        text-align: right;\n",
       "    }\n",
       "</style>\n",
       "<table border=\"1\" class=\"dataframe\">\n",
       "  <thead>\n",
       "    <tr style=\"text-align: right;\">\n",
       "      <th></th>\n",
       "      <th>$(n_0, n_1)$</th>\n",
       "      <th>Trans</th>\n",
       "      <th>Stage</th>\n",
       "      <th>$A^*$</th>\n",
       "    </tr>\n",
       "  </thead>\n",
       "  <tbody>\n",
       "    <tr>\n",
       "      <th>2</th>\n",
       "      <td>(50, 100)</td>\n",
       "      <td>1.0</td>\n",
       "      <td>0.0</td>\n",
       "      <td>0.9675</td>\n",
       "    </tr>\n",
       "    <tr>\n",
       "      <th>6</th>\n",
       "      <td>(50, 60)</td>\n",
       "      <td>1.0</td>\n",
       "      <td>0.0</td>\n",
       "      <td>0.9475</td>\n",
       "    </tr>\n",
       "    <tr>\n",
       "      <th>10</th>\n",
       "      <td>(50, 70)</td>\n",
       "      <td>1.0</td>\n",
       "      <td>0.0</td>\n",
       "      <td>0.9625</td>\n",
       "    </tr>\n",
       "    <tr>\n",
       "      <th>14</th>\n",
       "      <td>(50, 80)</td>\n",
       "      <td>1.0</td>\n",
       "      <td>0.0</td>\n",
       "      <td>0.9675</td>\n",
       "    </tr>\n",
       "    <tr>\n",
       "      <th>18</th>\n",
       "      <td>(50, 90)</td>\n",
       "      <td>1.0</td>\n",
       "      <td>0.0</td>\n",
       "      <td>0.9650</td>\n",
       "    </tr>\n",
       "  </tbody>\n",
       "</table>\n",
       "</div>"
      ],
      "text/plain": [
       "   $(n_0, n_1)$  Trans  Stage   $A^*$\n",
       "2     (50, 100)    1.0    0.0  0.9675\n",
       "6      (50, 60)    1.0    0.0  0.9475\n",
       "10     (50, 70)    1.0    0.0  0.9625\n",
       "14     (50, 80)    1.0    0.0  0.9675\n",
       "18     (50, 90)    1.0    0.0  0.9650"
      ]
     },
     "execution_count": 28,
     "metadata": {},
     "output_type": "execute_result"
    }
   ],
   "source": [
    "df_s0[df_s0['Trans']==1]"
   ]
  },
  {
   "cell_type": "code",
   "execution_count": 29,
   "metadata": {},
   "outputs": [
    {
     "data": {
      "text/html": [
       "<div>\n",
       "<style scoped>\n",
       "    .dataframe tbody tr th:only-of-type {\n",
       "        vertical-align: middle;\n",
       "    }\n",
       "\n",
       "    .dataframe tbody tr th {\n",
       "        vertical-align: top;\n",
       "    }\n",
       "\n",
       "    .dataframe thead th {\n",
       "        text-align: right;\n",
       "    }\n",
       "</style>\n",
       "<table border=\"1\" class=\"dataframe\">\n",
       "  <thead>\n",
       "    <tr style=\"text-align: right;\">\n",
       "      <th></th>\n",
       "      <th>$(n_0, n_1)$</th>\n",
       "      <th>Trans</th>\n",
       "      <th>Stage</th>\n",
       "      <th>$A^*$</th>\n",
       "    </tr>\n",
       "  </thead>\n",
       "  <tbody>\n",
       "    <tr>\n",
       "      <th>0</th>\n",
       "      <td>(50, 100)</td>\n",
       "      <td>0.0</td>\n",
       "      <td>0.0</td>\n",
       "      <td>0.8575</td>\n",
       "    </tr>\n",
       "    <tr>\n",
       "      <th>4</th>\n",
       "      <td>(50, 60)</td>\n",
       "      <td>0.0</td>\n",
       "      <td>0.0</td>\n",
       "      <td>0.8600</td>\n",
       "    </tr>\n",
       "    <tr>\n",
       "      <th>8</th>\n",
       "      <td>(50, 70)</td>\n",
       "      <td>0.0</td>\n",
       "      <td>0.0</td>\n",
       "      <td>0.8675</td>\n",
       "    </tr>\n",
       "    <tr>\n",
       "      <th>12</th>\n",
       "      <td>(50, 80)</td>\n",
       "      <td>0.0</td>\n",
       "      <td>0.0</td>\n",
       "      <td>0.8800</td>\n",
       "    </tr>\n",
       "    <tr>\n",
       "      <th>16</th>\n",
       "      <td>(50, 90)</td>\n",
       "      <td>0.0</td>\n",
       "      <td>0.0</td>\n",
       "      <td>0.8625</td>\n",
       "    </tr>\n",
       "  </tbody>\n",
       "</table>\n",
       "</div>"
      ],
      "text/plain": [
       "   $(n_0, n_1)$  Trans  Stage   $A^*$\n",
       "0     (50, 100)    0.0    0.0  0.8575\n",
       "4      (50, 60)    0.0    0.0  0.8600\n",
       "8      (50, 70)    0.0    0.0  0.8675\n",
       "12     (50, 80)    0.0    0.0  0.8800\n",
       "16     (50, 90)    0.0    0.0  0.8625"
      ]
     },
     "execution_count": 29,
     "metadata": {},
     "output_type": "execute_result"
    }
   ],
   "source": [
    "df_s0.loc[df_s0['Trans']==0]"
   ]
  },
  {
   "cell_type": "code",
   "execution_count": 30,
   "metadata": {},
   "outputs": [],
   "source": [
    "# print latex table\n",
    "#print(df_s0.loc[df_s0['Trans']==1].to_latex())"
   ]
  },
  {
   "cell_type": "code",
   "execution_count": 31,
   "metadata": {},
   "outputs": [
    {
     "name": "stdout",
     "output_type": "stream",
     "text": [
      "Done!\n"
     ]
    }
   ],
   "source": [
    "print(\"Done!\")"
   ]
  },
  {
   "cell_type": "code",
   "execution_count": null,
   "metadata": {},
   "outputs": [],
   "source": []
  }
 ],
 "metadata": {
  "kernelspec": {
   "display_name": "Python 3",
   "language": "python",
   "name": "python3"
  },
  "language_info": {
   "codemirror_mode": {
    "name": "ipython",
    "version": 3
   },
   "file_extension": ".py",
   "mimetype": "text/x-python",
   "name": "python",
   "nbconvert_exporter": "python",
   "pygments_lexer": "ipython3",
   "version": "3.6.13"
  }
 },
 "nbformat": 4,
 "nbformat_minor": 4
}
