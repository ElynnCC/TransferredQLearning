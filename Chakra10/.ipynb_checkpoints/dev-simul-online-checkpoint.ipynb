{
 "cells": [
  {
   "cell_type": "markdown",
   "metadata": {},
   "source": [
    "# Set simulatin parameters, run simulation and save pickle file for all mc's of each model \n"
   ]
  },
  {
   "cell_type": "code",
   "execution_count": 35,
   "metadata": {},
   "outputs": [],
   "source": [
    "import numpy as np\n",
    "import scipy as sp \n",
    "import pandas as pd\n",
    "\n",
    "import matplotlib.pyplot as plt\n",
    "import seaborn as sns\n",
    "from sklearn import linear_model\n",
    "\n",
    "import pickle\n",
    "import os\n",
    "\n",
    "import warnings\n",
    "warnings.filterwarnings('ignore')"
   ]
  },
  {
   "cell_type": "code",
   "execution_count": 36,
   "metadata": {},
   "outputs": [],
   "source": [
    "# personal library\n",
    "\n",
    "import MDP_CHAK10\n",
    "import QLearning as QL\n",
    "import TransferLinearModel as TLM\n",
    "import TransferQLearning as TQL"
   ]
  },
  {
   "cell_type": "code",
   "execution_count": 37,
   "metadata": {},
   "outputs": [],
   "source": [
    "horizon = 2\n",
    "dim_tru = 8\n",
    "r2_coef_tar = np.ones(dim_tru)\n",
    "r2_coef_tar[-1] = 0\n",
    "r2_coef_aux = np.ones(dim_tru)\n",
    "r2_coef_aux[-1] = 0\n",
    "\n",
    "diff = 1\n",
    "#r2_coef_aux[1] += diff\n",
    "r2_coef_aux[3] += diff\n"
   ]
  },
  {
   "cell_type": "code",
   "execution_count": 38,
   "metadata": {},
   "outputs": [],
   "source": [
    "DATA_DIR = 'data/'\n",
    "RES_DIR = 'res/'"
   ]
  },
  {
   "cell_type": "code",
   "execution_count": 161,
   "metadata": {},
   "outputs": [],
   "source": [
    "dim_obs = 100\n",
    "\n",
    "num_obs_aux = 150\n",
    "\n",
    "distn = 'n'"
   ]
  },
  {
   "cell_type": "code",
   "execution_count": 162,
   "metadata": {},
   "outputs": [],
   "source": [
    "_SEED = 7777\n",
    "seed = _SEED\n",
    "np.random.seed(seed)\n",
    "\n",
    "# Generate off-line data from task-1\n",
    "mdp = MDP_CHAK10.MDP_CHAK10(dim_obs, noise_var=1)\n",
    "\n",
    "# Auxilliary task\n",
    "mdp.set_r2_coef(r2_coef_aux)\n",
    "traj_aux = mdp.sample_random_obs(num_obs_aux, distn)\n",
    "q_coef_aux_tru = mdp.get_Q_coef()\n",
    "\n",
    "# Target task\n",
    "mdp.set_r2_coef(r2_coef_tar)\n",
    "\n",
    "q_coef_tar_singl = None\n",
    "q_coef_tar_trans = QL.Lasso(traj_aux, max_iter=5000, CV=True)  \n",
    "q_coef_tar_tru = mdp.get_Q_coef()\n"
   ]
  },
  {
   "cell_type": "code",
   "execution_count": 163,
   "metadata": {},
   "outputs": [],
   "source": [
    "## 1, S1, A1, S1A1, A2, S2A2, A1A2, S2\n",
    "## np.round(np.hstack([q_coef_tar_tru[:8,:], q_coef_aux_tru[:8,:], q_coef_tar_trans[:8,:]]), 2)"
   ]
  },
  {
   "cell_type": "code",
   "execution_count": 164,
   "metadata": {},
   "outputs": [],
   "source": [
    "#################\n",
    "batch_size = 1\n",
    "num_epoch = 50    # number of explorations\n",
    "batch_size_test = 1000"
   ]
  },
  {
   "cell_type": "code",
   "execution_count": 165,
   "metadata": {},
   "outputs": [
    {
     "name": "stdout",
     "output_type": "stream",
     "text": [
      "Running with exploration # 0\n",
      "Running with exploration # 1\n",
      "Running with exploration # 2\n",
      "Running with exploration # 3\n",
      "Running with exploration # 4\n",
      "Running with exploration # 5\n",
      "Running with exploration # 6\n",
      "Running with exploration # 7\n",
      "Running with exploration # 8\n",
      "Running with exploration # 9\n",
      "Running with exploration # 10\n",
      "Running with exploration # 11\n",
      "Running with exploration # 12\n",
      "Running with exploration # 13\n",
      "Running with exploration # 14\n",
      "Running with exploration # 15\n",
      "Running with exploration # 16\n",
      "Running with exploration # 17\n",
      "Running with exploration # 18\n",
      "Running with exploration # 19\n",
      "Running with exploration # 20\n",
      "Running with exploration # 21\n",
      "Running with exploration # 22\n",
      "Running with exploration # 23\n",
      "Running with exploration # 24\n",
      "Running with exploration # 25\n",
      "Running with exploration # 26\n",
      "Running with exploration # 27\n",
      "Running with exploration # 28\n",
      "Running with exploration # 29\n",
      "Running with exploration # 30\n",
      "Running with exploration # 31\n",
      "Running with exploration # 32\n",
      "Running with exploration # 33\n",
      "Running with exploration # 34\n",
      "Running with exploration # 35\n",
      "Running with exploration # 36\n",
      "Running with exploration # 37\n",
      "Running with exploration # 38\n",
      "Running with exploration # 39\n",
      "Running with exploration # 40\n",
      "Running with exploration # 41\n",
      "Running with exploration # 42\n",
      "Running with exploration # 43\n",
      "Running with exploration # 44\n",
      "Running with exploration # 45\n",
      "Running with exploration # 46\n",
      "Running with exploration # 47\n",
      "Running with exploration # 48\n",
      "Running with exploration # 49\n",
      "Done!\n"
     ]
    }
   ],
   "source": [
    "betas_sg = None\n",
    "betas_tr = None\n",
    "\n",
    "seed = _SEED\n",
    "np.random.seed(seed)\n",
    "\n",
    "reward_sg = np.zeros(num_epoch)\n",
    "reward_tr = np.zeros(num_epoch)\n",
    "reward_opt = np.zeros(num_epoch)\n",
    "\n",
    "for ep in np.arange(num_epoch):\n",
    "    print(f'Running with exploration # {batch_size * ep}')\n",
    "    \n",
    "    traj_1 = mdp.sample_random_obs(num_obs = batch_size * (ep+1), distn='n')\n",
    "    betas_sg = QL.Lasso(traj_1) \n",
    "    betas_tr, _ = TQL.Lasso(traj_1, traj_aux)\n",
    "    #reward_ex = traj_1['rew'][:,-1]\n",
    "\n",
    "    # single task\n",
    "    obs = mdp.reset(batch_size_test)\n",
    "    mdp.step(mdp.greedy(betas_sg))\n",
    "    mdp.step(mdp.greedy(betas_sg))\n",
    "    reward_sg[ep] = np.mean(mdp.reward[:,-1])\n",
    "\n",
    "    # transfer\n",
    "    mdp.reset_with_obs(batch_size_test, obs)\n",
    "    mdp.step(mdp.greedy(betas_tr))\n",
    "    mdp.step(mdp.greedy(betas_tr))\n",
    "    reward_tr[ep] = np.mean(mdp.reward[:,-1])\n",
    "\n",
    "    # true\n",
    "    mdp.reset_with_obs(batch_size_test, obs)\n",
    "    mdp.step(mdp.greedy(q_coef_tar_tru))\n",
    "    mdp.step(mdp.greedy(q_coef_tar_tru))\n",
    "    reward_opt[ep] = np.mean(mdp.reward[:,-1])\n",
    "\n",
    "print(\"Done!\")"
   ]
  },
  {
   "cell_type": "code",
   "execution_count": 166,
   "metadata": {},
   "outputs": [
    {
     "data": {
      "text/plain": [
       "<matplotlib.legend.Legend at 0x7fd7f156e128>"
      ]
     },
     "execution_count": 166,
     "metadata": {},
     "output_type": "execute_result"
    },
    {
     "data": {
      "image/png": "[encoded data removed]",
      "text/plain": [
       "<Figure size 432x288 with 1 Axes>"
      ]
     },
     "metadata": {},
     "output_type": "display_data"
    }
   ],
   "source": [
    "sns.set_style('whitegrid')\n",
    "fig, axe = plt.subplots()\n",
    "\n",
    "plt.plot(np.arange(1,(num_epoch+1))*batch_size, np.cumsum(reward_sg)/np.arange(1,num_epoch+1), 'b--', label='No')\n",
    "plt.plot(np.arange(1,(num_epoch+1))*batch_size, np.cumsum(reward_tr)/np.arange(1,num_epoch+1), 'm-', label='Yes')\n",
    "\n",
    "#sns.lineplot(np.arange(num_epoch), np.cumsum(reward0)/np.arange(1,num_epoch+1), ax = axe)\n",
    "#sns.lineplot(np.arange(num_epoch), np.cumsum(reward1)/np.arange(1,num_epoch+1), ax = axe)\n",
    "\n",
    "axe.set_ylabel(\"Average return\")\n",
    "axe.set_xlabel(\"Exploration Length\")\n",
    "\n",
    "axe.legend(title=\"Transfer\", loc=\"center right\")\n",
    "\n",
    "#plt.savefig(os.path.join(RES_DIR, 'return-etc.pdf'), bbox_inches='tight')"
   ]
  },
  {
   "cell_type": "code",
   "execution_count": 167,
   "metadata": {},
   "outputs": [
    {
     "data": {
      "image/png": "[encoded data removed]",
      "text/plain": [
       "<Figure size 432x288 with 1 Axes>"
      ]
     },
     "metadata": {},
     "output_type": "display_data"
    }
   ],
   "source": [
    "sns.set_style('whitegrid')\n",
    "fig, axe = plt.subplots()\n",
    "\n",
    "plt.plot(np.arange(1,(num_epoch+1))*batch_size, np.cumsum(reward_opt-reward_sg)/np.arange(1,num_epoch+1), 'b--', label='No')\n",
    "plt.plot(np.arange(1,(num_epoch+1))*batch_size, np.cumsum(reward_opt-reward_tr)/np.arange(1,num_epoch+1), 'm-', label='Yes')\n",
    "\n",
    "\n",
    "#plt.plot(np.arange(0,num_epoch*batch_size,batch_size)[1:], (reward_opt-reward_sg)[1:], 'b--', label='No')\n",
    "#plt.plot(np.arange(0,num_epoch*batch_size,batch_size)[1:], (reward_opt-reward_tr)[1:], 'm-', label='Yes')\n",
    "\n",
    "\n",
    "axe.set_ylabel(\"Cumulative regret\")\n",
    "axe.set_xlabel(\"Exploration Length\")\n",
    "\n",
    "axe.legend(title=\"Transfer\", loc=\"center right\")\n",
    "\n",
    "plt.savefig(os.path.join(RES_DIR, 'regret-etc.pdf'), bbox_inches='tight')"
   ]
  },
  {
   "cell_type": "code",
   "execution_count": 168,
   "metadata": {},
   "outputs": [
    {
     "data": {
      "text/plain": [
       "array([[ 3.88733809,  0.98149912,  2.89528815],\n",
       "       [ 3.71428532,  0.84815483,  2.74275826],\n",
       "       [ 3.70998533,  0.9473616 ,  2.60140704],\n",
       "       [ 3.8762539 ,  1.22062004,  2.96404029],\n",
       "       [ 3.83264679,  1.01341447,  2.96562537],\n",
       "       [ 3.80564184,  1.04479262,  2.8580824 ],\n",
       "       [ 3.76305643,  1.03163489,  2.76158534],\n",
       "       [ 3.8558672 ,  1.03889892,  2.92595186],\n",
       "       [ 3.8516948 ,  1.10390843,  2.85383658],\n",
       "       [ 3.75961405, -0.20332733,  2.77518325],\n",
       "       [ 3.76520716, -0.20870738,  2.68303186],\n",
       "       [ 3.63553298,  0.95657438,  2.7212119 ],\n",
       "       [ 3.83408081,  1.05970002,  2.71553556],\n",
       "       [ 3.73541418,  1.0429768 ,  2.79541767],\n",
       "       [ 3.79828623,  1.00657692,  2.84889627],\n",
       "       [ 3.85267024,  1.11576253,  2.87933057],\n",
       "       [ 3.82256461, -0.25684328,  2.82748097],\n",
       "       [ 3.75076814,  2.70456819,  2.7461872 ],\n",
       "       [ 3.787112  ,  0.98105809,  2.77999593],\n",
       "       [ 3.81292617,  0.96059752,  2.76798474],\n",
       "       [ 3.74401437,  1.12501655,  2.79053296],\n",
       "       [ 3.87074786,  1.03116308,  2.84912122],\n",
       "       [ 3.82515367,  0.76095965,  2.85046147],\n",
       "       [ 3.75621578,  1.00688241,  2.77353315],\n",
       "       [ 3.74583245, -0.21610878,  2.80617578],\n",
       "       [ 3.76623153,  1.01131314,  2.72408311],\n",
       "       [ 3.67297826, -0.29782739,  2.62022492],\n",
       "       [ 3.73338974, -0.20905695,  2.77447237],\n",
       "       [ 3.8210031 ,  1.06669515,  2.80773673],\n",
       "       [ 3.76841335,  0.92333993,  2.74069047],\n",
       "       [ 3.87444217,  3.86145822,  2.78745817],\n",
       "       [ 3.66905468,  0.95812597,  2.63999702],\n",
       "       [ 3.78600657,  3.76805868,  2.74296766],\n",
       "       [ 3.84346694,  3.86894784,  2.8946445 ],\n",
       "       [ 3.73195271,  2.77709914,  2.85090982],\n",
       "       [ 3.83389489,  2.78126356,  2.73114652],\n",
       "       [ 3.67634407,  2.6630411 ,  2.59712134],\n",
       "       [ 3.81485189,  3.79178157,  2.76122591],\n",
       "       [ 3.76681369,  3.77946797,  2.68338184],\n",
       "       [ 3.67023373,  2.79799301,  2.72914662],\n",
       "       [ 3.72814318,  2.75202496,  2.67282221],\n",
       "       [ 3.8437465 ,  3.72028023,  2.76920887],\n",
       "       [ 3.91994714,  3.93032161,  3.05551041],\n",
       "       [ 3.70123608, -0.23039743,  2.72334768],\n",
       "       [ 3.8845177 ,  3.82695984,  2.79633249],\n",
       "       [ 3.88477757,  2.93029848,  2.88768625],\n",
       "       [ 3.74804583,  3.7700676 ,  2.73072254],\n",
       "       [ 3.67131142,  3.61238813,  2.65612426],\n",
       "       [ 3.81611177,  2.77212732,  2.80515476],\n",
       "       [ 3.76320006,  3.78578165,  2.79399814]])"
      ]
     },
     "execution_count": 168,
     "metadata": {},
     "output_type": "execute_result"
    }
   ],
   "source": [
    "np.hstack([reward_opt[:,None], reward_sg[:,None], reward_tr[:,None]])"
   ]
  },
  {
   "cell_type": "code",
   "execution_count": null,
   "metadata": {},
   "outputs": [],
   "source": [
    "#"
   ]
  },
  {
   "cell_type": "code",
   "execution_count": 103,
   "metadata": {},
   "outputs": [],
   "source": [
    "#################\n",
    "#batch_size = 5\n",
    "#num_epoch = 100  "
   ]
  },
  {
   "cell_type": "code",
   "execution_count": 104,
   "metadata": {},
   "outputs": [],
   "source": [
    "obs = mdp.reset(batch_size)\n",
    "act_0 = mdp.greedy(q_coef_tar_trans)\n",
    "obs_next, rew, done = mdp.step(act_0)\n",
    "act_1 = mdp.greedy(q_coef_tar_trans)\n",
    "obs_next_1, rew_1, done_1 = mdp.step(act_1)"
   ]
  },
  {
   "cell_type": "code",
   "execution_count": 105,
   "metadata": {},
   "outputs": [
    {
     "data": {
      "text/plain": [
       "4.576931611066684"
      ]
     },
     "execution_count": 105,
     "metadata": {},
     "output_type": "execute_result"
    }
   ],
   "source": [
    "np.mean(mdp.reward[:,-1])"
   ]
  },
  {
   "cell_type": "code",
   "execution_count": 106,
   "metadata": {},
   "outputs": [],
   "source": [
    "traj = mdp.sample_random_obs(num_obs=500, distn='n')"
   ]
  },
  {
   "cell_type": "code",
   "execution_count": 107,
   "metadata": {},
   "outputs": [
    {
     "data": {
      "text/plain": [
       "0.9315866855923769"
      ]
     },
     "execution_count": 107,
     "metadata": {},
     "output_type": "execute_result"
    }
   ],
   "source": [
    "np.mean(traj['rew'][:,-1])"
   ]
  },
  {
   "cell_type": "code",
   "execution_count": 108,
   "metadata": {},
   "outputs": [],
   "source": [
    "# obs = mdp.reset(batch_size)\n",
    "obs = mdp.reset_with_obs(batch_size, obs)\n",
    "act_0 = mdp.greedy(q_coef_tar_tru)\n",
    "obs_next, rew, done = mdp.step(act_0)\n",
    "act_1 = mdp.greedy(q_coef_tar_tru)\n",
    "obs_next_1, rew_1, done_1 = mdp.step(act_1)"
   ]
  },
  {
   "cell_type": "code",
   "execution_count": 109,
   "metadata": {},
   "outputs": [
    {
     "data": {
      "text/plain": [
       "5.069783113311833"
      ]
     },
     "execution_count": 109,
     "metadata": {},
     "output_type": "execute_result"
    }
   ],
   "source": [
    "np.mean(mdp.reward[:,-1])"
   ]
  },
  {
   "cell_type": "code",
   "execution_count": null,
   "metadata": {},
   "outputs": [],
   "source": []
  }
 ],
 "metadata": {
  "kernelspec": {
   "display_name": "Python 3",
   "language": "python",
   "name": "python3"
  },
  "language_info": {
   "codemirror_mode": {
    "name": "ipython",
    "version": 3
   },
   "file_extension": ".py",
   "mimetype": "text/x-python",
   "name": "python",
   "nbconvert_exporter": "python",
   "pygments_lexer": "ipython3",
   "version": "3.6.13"
  }
 },
 "nbformat": 4,
 "nbformat_minor": 4
}
