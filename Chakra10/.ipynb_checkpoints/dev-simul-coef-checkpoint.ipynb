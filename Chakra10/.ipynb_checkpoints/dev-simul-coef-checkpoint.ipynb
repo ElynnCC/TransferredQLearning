{
 "cells": [
  {
   "cell_type": "markdown",
   "metadata": {},
   "source": [
    "# Set simulatin parameters, run simulation and save pickle file for all mc's of each model \n"
   ]
  },
  {
   "cell_type": "code",
   "execution_count": 1,
   "metadata": {},
   "outputs": [
    {
     "name": "stderr",
     "output_type": "stream",
     "text": [
      "In /Users/elynncc/anaconda3/envs/research/lib/python3.6/site-packages/matplotlib/mpl-data/stylelib/_classic_test.mplstyle: \n",
      "The text.latex.preview rcparam was deprecated in Matplotlib 3.3 and will be removed two minor releases later.\n",
      "In /Users/elynncc/anaconda3/envs/research/lib/python3.6/site-packages/matplotlib/mpl-data/stylelib/_classic_test.mplstyle: \n",
      "The mathtext.fallback_to_cm rcparam was deprecated in Matplotlib 3.3 and will be removed two minor releases later.\n",
      "In /Users/elynncc/anaconda3/envs/research/lib/python3.6/site-packages/matplotlib/mpl-data/stylelib/_classic_test.mplstyle: Support for setting the 'mathtext.fallback_to_cm' rcParam is deprecated since 3.3 and will be removed two minor releases later; use 'mathtext.fallback : 'cm' instead.\n",
      "In /Users/elynncc/anaconda3/envs/research/lib/python3.6/site-packages/matplotlib/mpl-data/stylelib/_classic_test.mplstyle: \n",
      "The validate_bool_maybe_none function was deprecated in Matplotlib 3.3 and will be removed two minor releases later.\n",
      "In /Users/elynncc/anaconda3/envs/research/lib/python3.6/site-packages/matplotlib/mpl-data/stylelib/_classic_test.mplstyle: \n",
      "The savefig.jpeg_quality rcparam was deprecated in Matplotlib 3.3 and will be removed two minor releases later.\n",
      "In /Users/elynncc/anaconda3/envs/research/lib/python3.6/site-packages/matplotlib/mpl-data/stylelib/_classic_test.mplstyle: \n",
      "The keymap.all_axes rcparam was deprecated in Matplotlib 3.3 and will be removed two minor releases later.\n",
      "In /Users/elynncc/anaconda3/envs/research/lib/python3.6/site-packages/matplotlib/mpl-data/stylelib/_classic_test.mplstyle: \n",
      "The animation.avconv_path rcparam was deprecated in Matplotlib 3.3 and will be removed two minor releases later.\n",
      "In /Users/elynncc/anaconda3/envs/research/lib/python3.6/site-packages/matplotlib/mpl-data/stylelib/_classic_test.mplstyle: \n",
      "The animation.avconv_args rcparam was deprecated in Matplotlib 3.3 and will be removed two minor releases later.\n"
     ]
    }
   ],
   "source": [
    "import numpy as np\n",
    "import scipy as sp \n",
    "import pandas as pd\n",
    "\n",
    "import matplotlib.pyplot as plt\n",
    "from sklearn import linear_model\n",
    "\n",
    "import pickle\n",
    "import os"
   ]
  },
  {
   "cell_type": "code",
   "execution_count": 2,
   "metadata": {},
   "outputs": [],
   "source": [
    "# personal library\n",
    "\n",
    "import MDP_CHAK10\n",
    "\n",
    "import QLearning as QL\n",
    "import TransferLinearModel as TLM\n",
    "import TransferQLearning as TQL"
   ]
  },
  {
   "cell_type": "code",
   "execution_count": 3,
   "metadata": {},
   "outputs": [],
   "source": [
    "horizon = 2\n",
    "dim_tru = 8\n",
    "r2_coef_0 = np.ones(dim_tru)\n",
    "r2_coef_0[-1] = 0\n",
    "r2_coef_1 = np.ones(dim_tru)\n",
    "r2_coef_1[-1] = 0\n",
    "\n",
    "diff = 0.2\n",
    "r2_coef_1[1] += diff\n",
    "#r2_coef_1[3] += diff # 'data_2/'\n"
   ]
  },
  {
   "cell_type": "code",
   "execution_count": 4,
   "metadata": {},
   "outputs": [],
   "source": [
    "DATA_DIR = 'data/'\n",
    "RES_DIR = 'res/'"
   ]
  },
  {
   "cell_type": "code",
   "execution_count": 5,
   "metadata": {},
   "outputs": [],
   "source": [
    "p = 100\n",
    "\n",
    "# n0 = 30\n",
    "#n0_list = np.array([30], dtype=int)\n",
    "#n1_list = np.array([40, 50, 60, 70, 80], dtype=int)\n",
    "\n",
    "# n0 = 50\n",
    "#n0_list = np.array([50], dtype=int)\n",
    "#n1_list = np.array([60, 70, 80, 90, 100], dtype=int)\n",
    "\n",
    "# n0 = 70\n",
    "n0_list = np.array([70], dtype=int)\n",
    "n1_list = np.array([80, 90, 100, 110, 120], dtype=int)\n",
    "\n",
    "num_mc = 200\n",
    "\n",
    "#settings = np.array([[n0, n1] for n0 in n0_list for n1 in (n0 * ra_list).astype(int) ])\n",
    "settings = np.array([[p, n0, n1] \n",
    "                     for n0 in n0_list \n",
    "                     for n1 in n1_list])\n",
    "# settings"
   ]
  },
  {
   "cell_type": "code",
   "execution_count": 6,
   "metadata": {},
   "outputs": [],
   "source": [
    "def onemodel_sequential(r2_coef_0, r2_coef_1, horizon, dim_obs, \n",
    "                        num_obs_0, num_obs_1, num_mc, \n",
    "                        distn='n', noise_var = 1, \n",
    "                        _SEED = 6789):\n",
    "    \n",
    "    res_list = [None] * num_mc\n",
    "    \n",
    "    for ind_mc in np.arange(num_mc):\n",
    "        seed = _SEED * (ind_mc + 1)\n",
    "        res_list[ind_mc] = onemc(seed, ind_mc, r2_coef_0, r2_coef_1, \n",
    "                                 horizon, dim_obs, num_obs_0, num_obs_1,\n",
    "                                 distn, noise_var=1)\n",
    "    \n",
    "    return(res_list)"
   ]
  },
  {
   "cell_type": "code",
   "execution_count": 7,
   "metadata": {},
   "outputs": [],
   "source": [
    "def onemc(seed, ind_mc, r2_coef_0, r2_coef_1, \n",
    "          horizon, dim_obs, num_obs_0, num_obs_1,\n",
    "          distn='n', noise_var = 1):\n",
    "    \n",
    "    np.random.seed(seed)\n",
    "    \n",
    "    mdp = MDP_CHAK10.MDP_CHAK10(dim_obs, noise_var)\n",
    "    \n",
    "    mdp.set_r2_coef(r2_coef_0)\n",
    "    traj_0 = mdp.sample_random_obs(num_obs_0, distn)\n",
    "    q_coef_0_tru = mdp.get_Q_coef()\n",
    "    \n",
    "    mdp.set_r2_coef(r2_coef_1)\n",
    "    traj_1 = mdp.sample_random_obs(num_obs_1, distn)\n",
    "    # q_coef_1_tru = mdp.get_Q_coef() \n",
    "    \n",
    "    q_coef_0_sing = QL.Lasso(traj_0)\n",
    "    \n",
    "    q_coef_0_tran, _ = TQL.Lasso(traj_0, traj_1)\n",
    "    \n",
    "    return(np.hstack([q_coef_0_sing - q_coef_0_tru, \n",
    "                      q_coef_0_tran - q_coef_0_tru]))\n",
    "    "
   ]
  },
  {
   "cell_type": "code",
   "execution_count": 8,
   "metadata": {},
   "outputs": [
    {
     "name": "stdout",
     "output_type": "stream",
     "text": [
      "Processing model #0 with (diff, p, n_0, n_1)=(0.2, 100, 70, 80).\n",
      "Processing model #1 with (diff, p, n_0, n_1)=(0.2, 100, 70, 90).\n",
      "Processing model #2 with (diff, p, n_0, n_1)=(0.2, 100, 70, 100).\n",
      "Processing model #3 with (diff, p, n_0, n_1)=(0.2, 100, 70, 110).\n",
      "Processing model #4 with (diff, p, n_0, n_1)=(0.2, 100, 70, 120).\n"
     ]
    }
   ],
   "source": [
    "for row, (dim_obs, num_obs_0, num_obs_1) in enumerate(settings):\n",
    "    print('Processing model #' + str(row) +\n",
    "          ' with (diff, p, n_0, n_1)=(' + str(diff) + ', ' + str(dim_obs) + ', ' + \n",
    "          str(num_obs_0) + ', ' + str(num_obs_1) + ').')\n",
    "    distn = 'n'\n",
    "    noise_var = 1\n",
    "    res_list = onemodel_sequential(r2_coef_0, r2_coef_1, \n",
    "                                   horizon, dim_obs, \n",
    "                                   num_obs_0, num_obs_1, num_mc, \n",
    "                                   distn, noise_var, \n",
    "                                   _SEED = 6789)\n",
    "    \n",
    "    dump = 'diff-' + str(diff) + '-p-' + str(dim_obs) + '-n0-' + \\\n",
    "            str(num_obs_0) + '-n1-' + str(num_obs_1) + '-x-' + \\\n",
    "            distn + '-e-' + str(noise_var) + '-no-cv.pkl'\n",
    "    pickle.dump(res_list, open(os.path.join(DATA_DIR, dump),'wb'))"
   ]
  },
  {
   "cell_type": "markdown",
   "metadata": {},
   "source": [
    "# Load result file, combine and plot"
   ]
  },
  {
   "cell_type": "code",
   "execution_count": 9,
   "metadata": {},
   "outputs": [
    {
     "name": "stdout",
     "output_type": "stream",
     "text": [
      "Processing model #0 with (diff, p, n_0, n_1)=(0.2, 100, 70, 80).\n",
      "Processing model #1 with (diff, p, n_0, n_1)=(0.2, 100, 70, 90).\n",
      "Processing model #2 with (diff, p, n_0, n_1)=(0.2, 100, 70, 100).\n",
      "Processing model #3 with (diff, p, n_0, n_1)=(0.2, 100, 70, 110).\n",
      "Processing model #4 with (diff, p, n_0, n_1)=(0.2, 100, 70, 120).\n"
     ]
    }
   ],
   "source": [
    "for row, (dim_obs, num_obs_0, num_obs_1) in enumerate(settings):\n",
    "    \n",
    "    print('Processing model #' + str(row) +\n",
    "          ' with (diff, p, n_0, n_1)=(' + str(diff) + ', ' + str(dim_obs) + ', ' + \n",
    "          str(num_obs_0) + ', ' + str(num_obs_1) + ').')\n",
    "    \n",
    "    dump = 'diff-' + str(diff) + '-p-' + str(dim_obs) + '-n0-' + \\\n",
    "            str(num_obs_0) + '-n1-' + str(num_obs_1) + '-x-' + \\\n",
    "            distn + '-e-' + str(noise_var) + '-no-cv.pkl'\n",
    "    \n",
    "    res_list = pickle.load(open(os.path.join(DATA_DIR, dump),'rb'))\n",
    "    \n",
    "    # res_array: num_mc * 4 x dim_obs\n",
    "    res_array = np.hstack(res_list).transpose()\n",
    "    \n",
    "    if row == 0:\n",
    "        all_res_array = res_array\n",
    "    else:\n",
    "        all_res_array = np.vstack([all_res_array, res_array])"
   ]
  },
  {
   "cell_type": "code",
   "execution_count": 10,
   "metadata": {},
   "outputs": [],
   "source": [
    "simul = np.array([[n0, n1, i, trans, stage] \n",
    "                  for n0 in n0_list.astype(int)\n",
    "                  for n1 in n1_list.astype(int)\n",
    "                  for i in np.arange(num_mc)\n",
    "                  for trans in [0, 1]\n",
    "                  for stage in [0, 1]])"
   ]
  },
  {
   "cell_type": "code",
   "execution_count": 11,
   "metadata": {},
   "outputs": [],
   "source": [
    "mse = np.apply_along_axis(sum, 1, all_res_array**2)"
   ]
  },
  {
   "cell_type": "code",
   "execution_count": 12,
   "metadata": {},
   "outputs": [],
   "source": [
    "num_rows, _ = simul.shape\n",
    "col_names = np.concatenate([['$n_0$', '$n_1$', 'mc', 'Trans', 'Stage', 'MSE'],\n",
    "                         ['B' + str(p) for p in np.arange(dim_obs)] ])"
   ]
  },
  {
   "cell_type": "code",
   "execution_count": 13,
   "metadata": {},
   "outputs": [],
   "source": [
    "all_res = pd.DataFrame(np.hstack([simul, mse[:,None], all_res_array]), columns=col_names)"
   ]
  },
  {
   "cell_type": "code",
   "execution_count": 14,
   "metadata": {},
   "outputs": [
    {
     "data": {
      "text/html": [
       "<div>\n",
       "<style scoped>\n",
       "    .dataframe tbody tr th:only-of-type {\n",
       "        vertical-align: middle;\n",
       "    }\n",
       "\n",
       "    .dataframe tbody tr th {\n",
       "        vertical-align: top;\n",
       "    }\n",
       "\n",
       "    .dataframe thead th {\n",
       "        text-align: right;\n",
       "    }\n",
       "</style>\n",
       "<table border=\"1\" class=\"dataframe\">\n",
       "  <thead>\n",
       "    <tr style=\"text-align: right;\">\n",
       "      <th></th>\n",
       "      <th>$n_0$</th>\n",
       "      <th>$n_1$</th>\n",
       "      <th>mc</th>\n",
       "      <th>Trans</th>\n",
       "      <th>Stage</th>\n",
       "      <th>MSE</th>\n",
       "      <th>B0</th>\n",
       "      <th>B1</th>\n",
       "      <th>B2</th>\n",
       "      <th>B3</th>\n",
       "      <th>...</th>\n",
       "      <th>B90</th>\n",
       "      <th>B91</th>\n",
       "      <th>B92</th>\n",
       "      <th>B93</th>\n",
       "      <th>B94</th>\n",
       "      <th>B95</th>\n",
       "      <th>B96</th>\n",
       "      <th>B97</th>\n",
       "      <th>B98</th>\n",
       "      <th>B99</th>\n",
       "    </tr>\n",
       "  </thead>\n",
       "  <tbody>\n",
       "    <tr>\n",
       "      <th>0</th>\n",
       "      <td>70.0</td>\n",
       "      <td>80.0</td>\n",
       "      <td>0.0</td>\n",
       "      <td>0.0</td>\n",
       "      <td>0.0</td>\n",
       "      <td>10.625643</td>\n",
       "      <td>-2.690399</td>\n",
       "      <td>-0.889428</td>\n",
       "      <td>-1.245266</td>\n",
       "      <td>-0.653536</td>\n",
       "      <td>...</td>\n",
       "      <td>0.0</td>\n",
       "      <td>0.560066</td>\n",
       "      <td>0.0</td>\n",
       "      <td>-0.0</td>\n",
       "      <td>0.0</td>\n",
       "      <td>0.000000</td>\n",
       "      <td>0.028567</td>\n",
       "      <td>0.034667</td>\n",
       "      <td>0.0</td>\n",
       "      <td>0.000000</td>\n",
       "    </tr>\n",
       "    <tr>\n",
       "      <th>1</th>\n",
       "      <td>70.0</td>\n",
       "      <td>80.0</td>\n",
       "      <td>0.0</td>\n",
       "      <td>0.0</td>\n",
       "      <td>1.0</td>\n",
       "      <td>1.798742</td>\n",
       "      <td>-1.000000</td>\n",
       "      <td>-0.285220</td>\n",
       "      <td>-0.431638</td>\n",
       "      <td>-0.131729</td>\n",
       "      <td>...</td>\n",
       "      <td>0.0</td>\n",
       "      <td>0.000000</td>\n",
       "      <td>-0.0</td>\n",
       "      <td>-0.0</td>\n",
       "      <td>0.0</td>\n",
       "      <td>-0.062826</td>\n",
       "      <td>-0.000000</td>\n",
       "      <td>0.000000</td>\n",
       "      <td>-0.0</td>\n",
       "      <td>0.000000</td>\n",
       "    </tr>\n",
       "    <tr>\n",
       "      <th>2</th>\n",
       "      <td>70.0</td>\n",
       "      <td>80.0</td>\n",
       "      <td>0.0</td>\n",
       "      <td>1.0</td>\n",
       "      <td>0.0</td>\n",
       "      <td>8.350042</td>\n",
       "      <td>-2.690399</td>\n",
       "      <td>-0.571136</td>\n",
       "      <td>-0.642770</td>\n",
       "      <td>-0.201647</td>\n",
       "      <td>...</td>\n",
       "      <td>0.0</td>\n",
       "      <td>0.167736</td>\n",
       "      <td>0.0</td>\n",
       "      <td>0.0</td>\n",
       "      <td>0.0</td>\n",
       "      <td>0.098931</td>\n",
       "      <td>0.000000</td>\n",
       "      <td>0.082666</td>\n",
       "      <td>0.0</td>\n",
       "      <td>0.042518</td>\n",
       "    </tr>\n",
       "    <tr>\n",
       "      <th>3</th>\n",
       "      <td>70.0</td>\n",
       "      <td>80.0</td>\n",
       "      <td>0.0</td>\n",
       "      <td>1.0</td>\n",
       "      <td>1.0</td>\n",
       "      <td>1.286114</td>\n",
       "      <td>-1.000000</td>\n",
       "      <td>-0.157476</td>\n",
       "      <td>-0.235520</td>\n",
       "      <td>-0.042646</td>\n",
       "      <td>...</td>\n",
       "      <td>0.0</td>\n",
       "      <td>0.000000</td>\n",
       "      <td>0.0</td>\n",
       "      <td>0.0</td>\n",
       "      <td>0.0</td>\n",
       "      <td>-0.075436</td>\n",
       "      <td>-0.000000</td>\n",
       "      <td>0.000000</td>\n",
       "      <td>0.0</td>\n",
       "      <td>0.000000</td>\n",
       "    </tr>\n",
       "    <tr>\n",
       "      <th>4</th>\n",
       "      <td>70.0</td>\n",
       "      <td>80.0</td>\n",
       "      <td>1.0</td>\n",
       "      <td>0.0</td>\n",
       "      <td>0.0</td>\n",
       "      <td>9.708066</td>\n",
       "      <td>-2.690399</td>\n",
       "      <td>-0.835151</td>\n",
       "      <td>-0.818884</td>\n",
       "      <td>-0.777768</td>\n",
       "      <td>...</td>\n",
       "      <td>0.0</td>\n",
       "      <td>0.000000</td>\n",
       "      <td>0.0</td>\n",
       "      <td>0.0</td>\n",
       "      <td>0.0</td>\n",
       "      <td>0.139397</td>\n",
       "      <td>0.105541</td>\n",
       "      <td>0.010471</td>\n",
       "      <td>0.0</td>\n",
       "      <td>0.000000</td>\n",
       "    </tr>\n",
       "  </tbody>\n",
       "</table>\n",
       "<p>5 rows × 106 columns</p>\n",
       "</div>"
      ],
      "text/plain": [
       "   $n_0$  $n_1$   mc  Trans  Stage        MSE        B0        B1        B2  \\\n",
       "0   70.0   80.0  0.0    0.0    0.0  10.625643 -2.690399 -0.889428 -1.245266   \n",
       "1   70.0   80.0  0.0    0.0    1.0   1.798742 -1.000000 -0.285220 -0.431638   \n",
       "2   70.0   80.0  0.0    1.0    0.0   8.350042 -2.690399 -0.571136 -0.642770   \n",
       "3   70.0   80.0  0.0    1.0    1.0   1.286114 -1.000000 -0.157476 -0.235520   \n",
       "4   70.0   80.0  1.0    0.0    0.0   9.708066 -2.690399 -0.835151 -0.818884   \n",
       "\n",
       "         B3  ...  B90       B91  B92  B93  B94       B95       B96       B97  \\\n",
       "0 -0.653536  ...  0.0  0.560066  0.0 -0.0  0.0  0.000000  0.028567  0.034667   \n",
       "1 -0.131729  ...  0.0  0.000000 -0.0 -0.0  0.0 -0.062826 -0.000000  0.000000   \n",
       "2 -0.201647  ...  0.0  0.167736  0.0  0.0  0.0  0.098931  0.000000  0.082666   \n",
       "3 -0.042646  ...  0.0  0.000000  0.0  0.0  0.0 -0.075436 -0.000000  0.000000   \n",
       "4 -0.777768  ...  0.0  0.000000  0.0  0.0  0.0  0.139397  0.105541  0.010471   \n",
       "\n",
       "   B98       B99  \n",
       "0  0.0  0.000000  \n",
       "1 -0.0  0.000000  \n",
       "2  0.0  0.042518  \n",
       "3  0.0  0.000000  \n",
       "4  0.0  0.000000  \n",
       "\n",
       "[5 rows x 106 columns]"
      ]
     },
     "execution_count": 14,
     "metadata": {},
     "output_type": "execute_result"
    }
   ],
   "source": [
    "all_res.head()"
   ]
  },
  {
   "cell_type": "markdown",
   "metadata": {},
   "source": [
    "# Plot from DataFrame"
   ]
  },
  {
   "cell_type": "code",
   "execution_count": 15,
   "metadata": {},
   "outputs": [],
   "source": [
    "import seaborn as sns"
   ]
  },
  {
   "cell_type": "code",
   "execution_count": 16,
   "metadata": {},
   "outputs": [],
   "source": [
    "def combine(x):\n",
    "    return '('+str(x[0])+', '+str(x[1])+')'\n",
    "\n",
    "all_res['$(n_0, n_1)$'] = all_res[['$n_0$','$n_1$']].astype(int).apply(combine, 1)"
   ]
  },
  {
   "cell_type": "code",
   "execution_count": 17,
   "metadata": {},
   "outputs": [],
   "source": [
    "df_s0 = all_res.loc[ all_res['Stage']==0, ['$(n_0, n_1)$', 'mc', 'Trans', 'Stage', 'MSE']]\n",
    "df_s1 = all_res.loc[ all_res['Stage']==1, ['$(n_0, n_1)$', 'mc', 'Trans', 'Stage', 'MSE']]"
   ]
  },
  {
   "cell_type": "code",
   "execution_count": 18,
   "metadata": {},
   "outputs": [],
   "source": [
    "df_s0.loc[df_s0['Trans']==0, 'Trans'] = 'No'\n",
    "df_s0.loc[df_s0['Trans']==1, 'Trans'] = 'Yes'\n",
    "\n",
    "df_s1.loc[df_s1['Trans']==0, 'Trans'] = 'No'\n",
    "df_s1.loc[df_s1['Trans']==1, 'Trans'] = 'Yes'"
   ]
  },
  {
   "cell_type": "code",
   "execution_count": 19,
   "metadata": {},
   "outputs": [],
   "source": [
    "fname = 'chakra-diff-' + str(diff) + '-p-' + str(dim_obs) + '-n0-' + \\\n",
    "        str(num_obs_0) + '-x-' + distn + '-e-' + str(noise_var)"
   ]
  },
  {
   "cell_type": "code",
   "execution_count": 20,
   "metadata": {},
   "outputs": [
    {
     "data": {
      "image/png": "[encoded data removed]",
      "text/plain": [
       "<Figure size 720x288 with 2 Axes>"
      ]
     },
     "metadata": {},
     "output_type": "display_data"
    }
   ],
   "source": [
    "sns.set_style('whitegrid')\n",
    "fig, axes = plt.subplots(1, 2, figsize=(10, 4))\n",
    "sns.boxplot(x='$(n_0, n_1)$', y='MSE', hue='Trans', data=df_s0, \n",
    "            palette=\"pastel\", showfliers=False, ax=axes[0])\n",
    "\n",
    "sns.boxplot(x='$(n_0, n_1)$', y='MSE', hue='Trans', data=df_s1, \n",
    "            palette=\"pastel\", showfliers=False, ax=axes[1])\n",
    "\n",
    "axes[0].set_ylabel(\"$||\\\\hat \\\\theta - \\\\theta||^2_2$\")\n",
    "axes[1].set_ylabel(\"$||\\\\hat \\\\theta - \\\\theta||^2_2$\")\n",
    "\n",
    "axes[0].set_title(\"Stage 1\")\n",
    "axes[1].set_title(\"Stage 2\")\n",
    "\n",
    "axes[0].legend(title=\"Transfer\", loc=\"upper right\")\n",
    "axes[1].legend(title=\"Transfer\", loc=\"upper right\")\n",
    "\n",
    "plt.savefig(os.path.join(RES_DIR, fname + '.pdf'), bbox_inches='tight')"
   ]
  },
  {
   "cell_type": "code",
   "execution_count": 21,
   "metadata": {},
   "outputs": [],
   "source": [
    "#df = all_res.loc[ : , ['$(n_0, n_1)$', 'mc', 'Trans', 'Stage', 'MSE']]"
   ]
  },
  {
   "cell_type": "code",
   "execution_count": 22,
   "metadata": {},
   "outputs": [],
   "source": [
    "#g = sns.FacetGrid(df, col=\"Stage\")\n",
    "#g.map(sns.boxplot, x=\"$(n_0, n_1)$\", y=\"MSE\", hue=\"Trans\", data=df, palette=\"Set3\")"
   ]
  },
  {
   "cell_type": "code",
   "execution_count": null,
   "metadata": {},
   "outputs": [],
   "source": []
  }
 ],
 "metadata": {
  "kernelspec": {
   "display_name": "Python 3",
   "language": "python",
   "name": "python3"
  },
  "language_info": {
   "codemirror_mode": {
    "name": "ipython",
    "version": 3
   },
   "file_extension": ".py",
   "mimetype": "text/x-python",
   "name": "python",
   "nbconvert_exporter": "python",
   "pygments_lexer": "ipython3",
   "version": "3.6.13"
  }
 },
 "nbformat": 4,
 "nbformat_minor": 4
}
