{
 "cells": [
  {
   "cell_type": "markdown",
   "metadata": {},
   "source": [
    "# Set simulatin parameters, run simulation and save pickle file for all mc's of each model \n"
   ]
  },
  {
   "cell_type": "code",
   "execution_count": 1,
   "metadata": {},
   "outputs": [],
   "source": [
    "import numpy as np\n",
    "import scipy as sp \n",
    "import pandas as pd\n",
    "\n",
    "import matplotlib.pyplot as plt\n",
    "from sklearn import linear_model\n",
    "\n",
    "import pickle\n",
    "import os"
   ]
  },
  {
   "cell_type": "code",
   "execution_count": 2,
   "metadata": {},
   "outputs": [],
   "source": [
    "horizon = 2\n",
    "dim_tru = 8\n",
    "r2_coef_0 = np.ones(dim_tru)\n",
    "r2_coef_0[-1] = 0\n",
    "r2_coef_1 = np.ones(dim_tru)\n",
    "r2_coef_1[-1] = 0\n",
    "\n",
    "diff = .2\n",
    "r2_coef_1[1] += diff\n"
   ]
  },
  {
   "cell_type": "code",
   "execution_count": 3,
   "metadata": {},
   "outputs": [],
   "source": [
    "DATA_DIR = 'data/'\n",
    "RES_DIR = 'res/'"
   ]
  },
  {
   "cell_type": "code",
   "execution_count": 42,
   "metadata": {},
   "outputs": [],
   "source": [
    "p = 100\n",
    "\n",
    "#n0 = 30\n",
    "#n0_list = np.array([30], dtype=int)\n",
    "#n1_list = np.array([40, 50, 60, 70, 80], dtype=int)\n",
    "\n",
    "n0 = 50\n",
    "n0_list = np.array([50], dtype=int)\n",
    "n1_list = np.array([60, 70, 80, 90, 100], dtype=int)\n",
    "\n",
    "## n0 = 70\n",
    "#n0_list = np.array([70], dtype=int)\n",
    "#n1_list = np.array([80, 90, 100, 110, 120], dtype=int)\n",
    "\n",
    "num_mc = 200\n",
    "\n",
    "#settings = np.array([[n0, n1] for n0 in n0_list for n1 in (n0 * ra_list).astype(int) ])\n",
    "settings = np.array([[p, n0, n1] \n",
    "                     for n0 in n0_list \n",
    "                     for n1 in n1_list])\n",
    "# settings"
   ]
  },
  {
   "cell_type": "markdown",
   "metadata": {},
   "source": [
    "# Load data, process and plot"
   ]
  },
  {
   "cell_type": "code",
   "execution_count": 43,
   "metadata": {},
   "outputs": [
    {
     "name": "stdout",
     "output_type": "stream",
     "text": [
      "Loading data of model #0 with (diff, p, n_0, n_1)=(0.2, 100, 50, 60).\n",
      "Loading data of model #1 with (diff, p, n_0, n_1)=(0.2, 100, 50, 70).\n",
      "Loading data of model #2 with (diff, p, n_0, n_1)=(0.2, 100, 50, 80).\n",
      "Loading data of model #3 with (diff, p, n_0, n_1)=(0.2, 100, 50, 90).\n",
      "Loading data of model #4 with (diff, p, n_0, n_1)=(0.2, 100, 50, 100).\n"
     ]
    }
   ],
   "source": [
    "distn = 'n'\n",
    "noise_var = 1\n",
    "\n",
    "for row, (dim_obs, num_obs_0, num_obs_1) in enumerate(settings):\n",
    "    \n",
    "    print('Loading data of model #' + str(row) +\n",
    "          ' with (diff, p, n_0, n_1)=(' + str(diff) + ', ' + str(dim_obs) + ', ' + \n",
    "          str(num_obs_0) + ', ' + str(num_obs_1) + ').')\n",
    "    \n",
    "    dump = 'diff-' + str(diff) + '-p-' + str(dim_obs) + '-n0-' + \\\n",
    "            str(num_obs_0) + '-n1-' + str(num_obs_1) + '-x-' + \\\n",
    "            distn + '-e-' + str(noise_var) + '-no-cv.pkl'\n",
    "    \n",
    "    res_list = pickle.load(open(os.path.join(DATA_DIR, dump),'rb'))\n",
    "    \n",
    "    # res_array: num_mc * 4 x dim_obs\n",
    "    res_array = np.hstack(res_list).transpose()\n",
    "    \n",
    "    if row == 0:\n",
    "        all_res_array = res_array\n",
    "    else:\n",
    "        all_res_array = np.vstack([all_res_array, res_array])"
   ]
  },
  {
   "cell_type": "code",
   "execution_count": 44,
   "metadata": {},
   "outputs": [],
   "source": [
    "simul = np.array([[n0, n1, i, trans, stage] \n",
    "                  for n0 in n0_list.astype(int)\n",
    "                  for n1 in n1_list.astype(int)\n",
    "                  for i in np.arange(num_mc)\n",
    "                  for trans in [0, 1]\n",
    "                  for stage in [0, 1]])"
   ]
  },
  {
   "cell_type": "code",
   "execution_count": 45,
   "metadata": {},
   "outputs": [],
   "source": [
    "mse = np.apply_along_axis(sum, 1, all_res_array**2)"
   ]
  },
  {
   "cell_type": "code",
   "execution_count": 46,
   "metadata": {},
   "outputs": [],
   "source": [
    "num_rows, _ = simul.shape\n",
    "col_names = np.concatenate([['$n_0$', '$n_1$', 'mc', 'Trans', 'Stage', 'MSE'],\n",
    "                         ['B' + str(p) for p in np.arange(dim_obs)] ])"
   ]
  },
  {
   "cell_type": "code",
   "execution_count": 47,
   "metadata": {},
   "outputs": [],
   "source": [
    "all_res = pd.DataFrame(np.hstack([simul, mse[:,None], all_res_array]), columns=col_names)"
   ]
  },
  {
   "cell_type": "code",
   "execution_count": 48,
   "metadata": {},
   "outputs": [
    {
     "data": {
      "text/html": [
       "<div>\n",
       "<style scoped>\n",
       "    .dataframe tbody tr th:only-of-type {\n",
       "        vertical-align: middle;\n",
       "    }\n",
       "\n",
       "    .dataframe tbody tr th {\n",
       "        vertical-align: top;\n",
       "    }\n",
       "\n",
       "    .dataframe thead th {\n",
       "        text-align: right;\n",
       "    }\n",
       "</style>\n",
       "<table border=\"1\" class=\"dataframe\">\n",
       "  <thead>\n",
       "    <tr style=\"text-align: right;\">\n",
       "      <th></th>\n",
       "      <th>$n_0$</th>\n",
       "      <th>$n_1$</th>\n",
       "      <th>mc</th>\n",
       "      <th>Trans</th>\n",
       "      <th>Stage</th>\n",
       "      <th>MSE</th>\n",
       "      <th>B0</th>\n",
       "      <th>B1</th>\n",
       "      <th>B2</th>\n",
       "      <th>B3</th>\n",
       "      <th>...</th>\n",
       "      <th>B90</th>\n",
       "      <th>B91</th>\n",
       "      <th>B92</th>\n",
       "      <th>B93</th>\n",
       "      <th>B94</th>\n",
       "      <th>B95</th>\n",
       "      <th>B96</th>\n",
       "      <th>B97</th>\n",
       "      <th>B98</th>\n",
       "      <th>B99</th>\n",
       "    </tr>\n",
       "  </thead>\n",
       "  <tbody>\n",
       "    <tr>\n",
       "      <th>0</th>\n",
       "      <td>50.0</td>\n",
       "      <td>60.0</td>\n",
       "      <td>0.0</td>\n",
       "      <td>0.0</td>\n",
       "      <td>0.0</td>\n",
       "      <td>13.033295</td>\n",
       "      <td>-2.690399</td>\n",
       "      <td>-1.141619</td>\n",
       "      <td>-1.582057</td>\n",
       "      <td>-1.190399</td>\n",
       "      <td>...</td>\n",
       "      <td>0.000000</td>\n",
       "      <td>0.017399</td>\n",
       "      <td>0.0</td>\n",
       "      <td>0.0</td>\n",
       "      <td>0.0</td>\n",
       "      <td>0.000000</td>\n",
       "      <td>0.149272</td>\n",
       "      <td>0.000000</td>\n",
       "      <td>0.0</td>\n",
       "      <td>0.0</td>\n",
       "    </tr>\n",
       "    <tr>\n",
       "      <th>1</th>\n",
       "      <td>50.0</td>\n",
       "      <td>60.0</td>\n",
       "      <td>0.0</td>\n",
       "      <td>0.0</td>\n",
       "      <td>1.0</td>\n",
       "      <td>3.808877</td>\n",
       "      <td>-1.000000</td>\n",
       "      <td>-0.645589</td>\n",
       "      <td>-0.598739</td>\n",
       "      <td>-0.982482</td>\n",
       "      <td>...</td>\n",
       "      <td>0.000000</td>\n",
       "      <td>0.000000</td>\n",
       "      <td>0.0</td>\n",
       "      <td>-0.0</td>\n",
       "      <td>0.0</td>\n",
       "      <td>-0.000000</td>\n",
       "      <td>-0.000000</td>\n",
       "      <td>0.000000</td>\n",
       "      <td>-0.0</td>\n",
       "      <td>0.0</td>\n",
       "    </tr>\n",
       "    <tr>\n",
       "      <th>2</th>\n",
       "      <td>50.0</td>\n",
       "      <td>60.0</td>\n",
       "      <td>0.0</td>\n",
       "      <td>1.0</td>\n",
       "      <td>0.0</td>\n",
       "      <td>9.735400</td>\n",
       "      <td>-2.690399</td>\n",
       "      <td>-0.591028</td>\n",
       "      <td>-1.101007</td>\n",
       "      <td>-0.740195</td>\n",
       "      <td>...</td>\n",
       "      <td>0.000000</td>\n",
       "      <td>0.000000</td>\n",
       "      <td>0.0</td>\n",
       "      <td>0.0</td>\n",
       "      <td>0.0</td>\n",
       "      <td>0.013715</td>\n",
       "      <td>0.028592</td>\n",
       "      <td>0.000000</td>\n",
       "      <td>0.0</td>\n",
       "      <td>0.0</td>\n",
       "    </tr>\n",
       "    <tr>\n",
       "      <th>3</th>\n",
       "      <td>50.0</td>\n",
       "      <td>60.0</td>\n",
       "      <td>0.0</td>\n",
       "      <td>1.0</td>\n",
       "      <td>1.0</td>\n",
       "      <td>1.998530</td>\n",
       "      <td>-1.000000</td>\n",
       "      <td>-0.317369</td>\n",
       "      <td>-0.290776</td>\n",
       "      <td>-0.572045</td>\n",
       "      <td>...</td>\n",
       "      <td>0.000000</td>\n",
       "      <td>0.000000</td>\n",
       "      <td>-0.0</td>\n",
       "      <td>-0.0</td>\n",
       "      <td>-0.0</td>\n",
       "      <td>0.000000</td>\n",
       "      <td>-0.000000</td>\n",
       "      <td>0.000000</td>\n",
       "      <td>0.0</td>\n",
       "      <td>0.0</td>\n",
       "    </tr>\n",
       "    <tr>\n",
       "      <th>4</th>\n",
       "      <td>50.0</td>\n",
       "      <td>60.0</td>\n",
       "      <td>1.0</td>\n",
       "      <td>0.0</td>\n",
       "      <td>0.0</td>\n",
       "      <td>10.657392</td>\n",
       "      <td>-2.690399</td>\n",
       "      <td>-0.947245</td>\n",
       "      <td>-1.004775</td>\n",
       "      <td>-1.051403</td>\n",
       "      <td>...</td>\n",
       "      <td>0.207138</td>\n",
       "      <td>0.000000</td>\n",
       "      <td>0.0</td>\n",
       "      <td>0.0</td>\n",
       "      <td>0.0</td>\n",
       "      <td>0.128158</td>\n",
       "      <td>0.008243</td>\n",
       "      <td>0.120194</td>\n",
       "      <td>0.0</td>\n",
       "      <td>0.0</td>\n",
       "    </tr>\n",
       "  </tbody>\n",
       "</table>\n",
       "<p>5 rows × 106 columns</p>\n",
       "</div>"
      ],
      "text/plain": [
       "   $n_0$  $n_1$   mc  Trans  Stage        MSE        B0        B1        B2  \\\n",
       "0   50.0   60.0  0.0    0.0    0.0  13.033295 -2.690399 -1.141619 -1.582057   \n",
       "1   50.0   60.0  0.0    0.0    1.0   3.808877 -1.000000 -0.645589 -0.598739   \n",
       "2   50.0   60.0  0.0    1.0    0.0   9.735400 -2.690399 -0.591028 -1.101007   \n",
       "3   50.0   60.0  0.0    1.0    1.0   1.998530 -1.000000 -0.317369 -0.290776   \n",
       "4   50.0   60.0  1.0    0.0    0.0  10.657392 -2.690399 -0.947245 -1.004775   \n",
       "\n",
       "         B3  ...       B90       B91  B92  B93  B94       B95       B96  \\\n",
       "0 -1.190399  ...  0.000000  0.017399  0.0  0.0  0.0  0.000000  0.149272   \n",
       "1 -0.982482  ...  0.000000  0.000000  0.0 -0.0  0.0 -0.000000 -0.000000   \n",
       "2 -0.740195  ...  0.000000  0.000000  0.0  0.0  0.0  0.013715  0.028592   \n",
       "3 -0.572045  ...  0.000000  0.000000 -0.0 -0.0 -0.0  0.000000 -0.000000   \n",
       "4 -1.051403  ...  0.207138  0.000000  0.0  0.0  0.0  0.128158  0.008243   \n",
       "\n",
       "        B97  B98  B99  \n",
       "0  0.000000  0.0  0.0  \n",
       "1  0.000000 -0.0  0.0  \n",
       "2  0.000000  0.0  0.0  \n",
       "3  0.000000  0.0  0.0  \n",
       "4  0.120194  0.0  0.0  \n",
       "\n",
       "[5 rows x 106 columns]"
      ]
     },
     "execution_count": 48,
     "metadata": {},
     "output_type": "execute_result"
    }
   ],
   "source": [
    "all_res.head()"
   ]
  },
  {
   "cell_type": "markdown",
   "metadata": {},
   "source": [
    "# Plot from DataFrame"
   ]
  },
  {
   "cell_type": "code",
   "execution_count": 49,
   "metadata": {},
   "outputs": [],
   "source": [
    "import seaborn as sns"
   ]
  },
  {
   "cell_type": "code",
   "execution_count": 50,
   "metadata": {},
   "outputs": [],
   "source": [
    "def combine(x):\n",
    "    return '('+str(x[0])+', '+str(x[1])+')'\n",
    "\n",
    "all_res['$(n_0, n_1)$'] = all_res[['$n_0$','$n_1$']].astype(int).apply(combine, 1)"
   ]
  },
  {
   "cell_type": "code",
   "execution_count": 51,
   "metadata": {},
   "outputs": [],
   "source": [
    "df_s0 = all_res.loc[ all_res['Stage']==0, ['$(n_0, n_1)$', 'mc', 'Trans', 'Stage', 'MSE']]\n",
    "df_s1 = all_res.loc[ all_res['Stage']==1, ['$(n_0, n_1)$', 'mc', 'Trans', 'Stage', 'MSE']]"
   ]
  },
  {
   "cell_type": "code",
   "execution_count": 52,
   "metadata": {},
   "outputs": [],
   "source": [
    "df_s0.loc[df_s0['Trans']==0, 'Trans'] = 'No'\n",
    "df_s0.loc[df_s0['Trans']==1, 'Trans'] = 'Yes'\n",
    "\n",
    "df_s1.loc[df_s1['Trans']==0, 'Trans'] = 'No'\n",
    "df_s1.loc[df_s1['Trans']==1, 'Trans'] = 'Yes'"
   ]
  },
  {
   "cell_type": "code",
   "execution_count": 53,
   "metadata": {},
   "outputs": [],
   "source": [
    "fname = 'chakra-diff-' + str(diff) + '-p-' + str(dim_obs) + '-n0-' + \\\n",
    "        str(num_obs_0) + '-x-' + distn + '-e-' + str(noise_var)"
   ]
  },
  {
   "cell_type": "code",
   "execution_count": 54,
   "metadata": {},
   "outputs": [
    {
     "data": {
      "image/png": "[encoded data removed]",
      "text/plain": [
       "<Figure size 720x288 with 2 Axes>"
      ]
     },
     "metadata": {},
     "output_type": "display_data"
    }
   ],
   "source": [
    "sns.set_style('whitegrid')\n",
    "fig, axes = plt.subplots(1, 2, figsize=(10, 4))\n",
    "sns.boxplot(x='$(n_0, n_1)$', y='MSE', hue='Trans', data=df_s0, \n",
    "            palette=\"pastel\", showfliers=False, ax=axes[0])\n",
    "\n",
    "sns.boxplot(x='$(n_0, n_1)$', y='MSE', hue='Trans', data=df_s1, \n",
    "            palette=\"pastel\", showfliers=False, ax=axes[1])\n",
    "\n",
    "axes[0].set_ylabel(\"$||\\\\hat \\\\theta - \\\\theta||^2_2$\")\n",
    "axes[1].set_ylabel(\"$||\\\\hat \\\\theta - \\\\theta||^2_2$\")\n",
    "\n",
    "axes[0].set_title(\"Stage 1\")\n",
    "axes[1].set_title(\"Stage 2\")\n",
    "\n",
    "#axes[0].legend(bbox_to_anchor=(1.02, 1), title=\"Transfer\", loc=\"lower center\")\n",
    "axes[0].get_legend().remove()\n",
    "axes[1].legend(bbox_to_anchor=(1, 1), title=\"Transfer\", loc=\"upper left\")\n",
    "\n",
    "plt.savefig(os.path.join(RES_DIR, fname + '.pdf'), bbox_inches='tight')"
   ]
  },
  {
   "cell_type": "code",
   "execution_count": 55,
   "metadata": {},
   "outputs": [
    {
     "name": "stdout",
     "output_type": "stream",
     "text": [
      "Saved res/chakra-diff-0.2-p-100-n0-50-x-n-e-1.pdf\n"
     ]
    }
   ],
   "source": [
    "\n",
    "print(f\"Saved {os.path.join(RES_DIR, fname + '.pdf')}\")\n"
   ]
  },
  {
   "cell_type": "code",
   "execution_count": null,
   "metadata": {},
   "outputs": [],
   "source": []
  }
 ],
 "metadata": {
  "kernelspec": {
   "display_name": "Python 3 (ipykernel)",
   "language": "python",
   "name": "python3"
  },
  "language_info": {
   "codemirror_mode": {
    "name": "ipython",
    "version": 3
   },
   "file_extension": ".py",
   "mimetype": "text/x-python",
   "name": "python",
   "nbconvert_exporter": "python",
   "pygments_lexer": "ipython3",
   "version": "3.9.7"
  }
 },
 "nbformat": 4,
 "nbformat_minor": 4
}
